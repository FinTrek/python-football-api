{
 "cells": [
  {
   "cell_type": "markdown",
   "metadata": {},
   "source": [
    "## Football API testing \n",
    "https://rapidapi.com/api-sports/api/api-football/details"
   ]
  },
  {
   "cell_type": "code",
   "execution_count": 1,
   "metadata": {},
   "outputs": [],
   "source": [
    "import os \n",
    "import requests\n",
    "import json"
   ]
  },
  {
   "cell_type": "markdown",
   "metadata": {},
   "source": [
    "Using conda to manage my `api_key` and `api_host`. How to do this can be [here](https://towardsdatascience.com/how-to-hide-your-api-keys-in-python-fb2e1a61b0a0). "
   ]
  },
  {
   "cell_type": "code",
   "execution_count": 4,
   "metadata": {},
   "outputs": [],
   "source": [
    "url = \"https://api-football-v1.p.rapidapi.com/v2/predictions/157462\"\n",
    "\n",
    "headers = {\n",
    "    'x-rapidapi-host': os.environ.get(\"api_host\"), \n",
    "    'x-rapidapi-key': os.environ.get(\"api_key\"), \n",
    "    }"
   ]
  },
  {
   "cell_type": "markdown",
   "metadata": {},
   "source": [
    "An example call using the `requests` library to pull the json response from the given link. Carrying and storing IDs will allow for pulling all the information for a given league within a single league. "
   ]
  },
  {
   "cell_type": "code",
   "execution_count": 6,
   "metadata": {},
   "outputs": [],
   "source": [
    "response = requests.request(\"GET\", url, headers=headers)"
   ]
  },
  {
   "cell_type": "code",
   "execution_count": 11,
   "metadata": {},
   "outputs": [
    {
     "data": {
      "text/plain": [
       "{'api': {'results': 1,\n",
       "  'predictions': [{'match_winner': '1',\n",
       "    'under_over': None,\n",
       "    'goals_home': '-3.5',\n",
       "    'goals_away': '-1.5',\n",
       "    'advice': 'Winner : Paris Saint Germain',\n",
       "    'winning_percent': {'home': '50%', 'draws': '50%', 'away': '0%'},\n",
       "    'teams': {'home': {'team_id': 85,\n",
       "      'team_name': 'Paris Saint Germain',\n",
       "      'last_5_matches': {'forme': '75%',\n",
       "       'att': '71%',\n",
       "       'def': '86%',\n",
       "       'goals': 10,\n",
       "       'goals_avg': 2.5,\n",
       "       'goals_against': 2,\n",
       "       'goals_against_avg': 0.5},\n",
       "      'all_last_matches': {'matchs': {'matchsPlayed': {'home': 2,\n",
       "         'away': 2,\n",
       "         'total': 4},\n",
       "        'wins': {'home': 2, 'away': 1, 'total': 3},\n",
       "        'draws': {'home': 0, 'away': 0, 'total': 0},\n",
       "        'loses': {'home': 0, 'away': 1, 'total': 1}},\n",
       "       'goals': {'goalsFor': {'home': 7, 'away': 3, 'total': 10},\n",
       "        'goalsAgainst': {'home': 0, 'away': 2, 'total': 2}},\n",
       "       'goalsAvg': {'goalsFor': {'home': '3.5', 'away': '1.5', 'total': '2.5'},\n",
       "        'goalsAgainst': {'home': '0.0', 'away': '1.0', 'total': '0.5'}}},\n",
       "      'last_h2h': {'played': {'home': 4, 'away': 3, 'total': 7},\n",
       "       'wins': {'home': 3, 'away': 1, 'total': 4},\n",
       "       'draws': {'home': 1, 'away': 1, 'total': 2},\n",
       "       'loses': {'home': 0, 'away': 1, 'total': 1}}},\n",
       "     'away': {'team_id': 95,\n",
       "      'team_name': 'Strasbourg',\n",
       "      'last_5_matches': {'forme': '25%',\n",
       "       'att': '21%',\n",
       "       'def': '64%',\n",
       "       'goals': 3,\n",
       "       'goals_avg': 0.75,\n",
       "       'goals_against': 5,\n",
       "       'goals_against_avg': 1.25},\n",
       "      'all_last_matches': {'matchs': {'matchsPlayed': {'home': 3,\n",
       "         'away': 1,\n",
       "         'total': 4},\n",
       "        'wins': {'home': 0, 'away': 0, 'total': 0},\n",
       "        'draws': {'home': 2, 'away': 1, 'total': 3},\n",
       "        'loses': {'home': 1, 'away': 0, 'total': 1}},\n",
       "       'goals': {'goalsFor': {'home': 3, 'away': 0, 'total': 3},\n",
       "        'goalsAgainst': {'home': 5, 'away': 0, 'total': 5}},\n",
       "       'goalsAvg': {'goalsFor': {'home': '1.0', 'away': '0.0', 'total': '0.8'},\n",
       "        'goalsAgainst': {'home': '1.7', 'away': '0.0', 'total': '1.3'}}},\n",
       "      'last_h2h': {'played': {'home': 3, 'away': 4, 'total': 7},\n",
       "       'wins': {'home': 1, 'away': 0, 'total': 1},\n",
       "       'draws': {'home': 1, 'away': 1, 'total': 2},\n",
       "       'loses': {'home': 1, 'away': 3, 'total': 4}}}},\n",
       "    'h2h': [{'fixture_id': 35755,\n",
       "      'league_id': 22,\n",
       "      'event_date': '2017-12-02T16:00:00+00:00',\n",
       "      'event_timestamp': 1512230400,\n",
       "      'firstHalfStart': 1512230400,\n",
       "      'secondHalfStart': 1512234000,\n",
       "      'round': 'Regular Season - 16',\n",
       "      'status': 'Match Finished',\n",
       "      'statusShort': 'FT',\n",
       "      'elapsed': 90,\n",
       "      'venue': 'Stade de la Meinau (Strasbourg)',\n",
       "      'referee': 'R. Buquet',\n",
       "      'homeTeam': {'team_id': 95,\n",
       "       'team_name': 'Strasbourg',\n",
       "       'logo': 'https://media.api-football.com/teams/95.png'},\n",
       "      'awayTeam': {'team_id': 85,\n",
       "       'team_name': 'Paris Saint Germain',\n",
       "       'logo': 'https://media.api-football.com/teams/85.png'},\n",
       "      'goalsHomeTeam': 2,\n",
       "      'goalsAwayTeam': 1,\n",
       "      'score': {'halftime': '1-1',\n",
       "       'fulltime': '2-1',\n",
       "       'extratime': None,\n",
       "       'penalty': None}},\n",
       "     {'fixture_id': 121334,\n",
       "      'league_id': 434,\n",
       "      'event_date': '2017-12-13T20:05:00+00:00',\n",
       "      'event_timestamp': 1513195500,\n",
       "      'firstHalfStart': 1513195500,\n",
       "      'secondHalfStart': 1513199100,\n",
       "      'round': '8th Finals',\n",
       "      'status': 'Match Finished',\n",
       "      'statusShort': 'FT',\n",
       "      'elapsed': 90,\n",
       "      'venue': 'Stade de la Meinau (Strasbourg)',\n",
       "      'referee': None,\n",
       "      'homeTeam': {'team_id': 95,\n",
       "       'team_name': 'Strasbourg',\n",
       "       'logo': 'https://media.api-football.com/teams/95.png'},\n",
       "      'awayTeam': {'team_id': 85,\n",
       "       'team_name': 'Paris Saint Germain',\n",
       "       'logo': 'https://media.api-football.com/teams/85.png'},\n",
       "      'goalsHomeTeam': 2,\n",
       "      'goalsAwayTeam': 4,\n",
       "      'score': {'halftime': '1-2',\n",
       "       'fulltime': '2-4',\n",
       "       'extratime': None,\n",
       "       'penalty': None}},\n",
       "     {'fixture_id': 35656,\n",
       "      'league_id': 22,\n",
       "      'event_date': '2018-02-17T16:00:00+00:00',\n",
       "      'event_timestamp': 1518883200,\n",
       "      'firstHalfStart': 1518883200,\n",
       "      'secondHalfStart': 1518886800,\n",
       "      'round': 'Regular Season - 26',\n",
       "      'status': 'Match Finished',\n",
       "      'statusShort': 'FT',\n",
       "      'elapsed': 90,\n",
       "      'venue': 'Parc des Princes (Paris)',\n",
       "      'referee': None,\n",
       "      'homeTeam': {'team_id': 85,\n",
       "       'team_name': 'Paris Saint Germain',\n",
       "       'logo': 'https://media.api-football.com/teams/85.png'},\n",
       "      'awayTeam': {'team_id': 95,\n",
       "       'team_name': 'Strasbourg',\n",
       "       'logo': 'https://media.api-football.com/teams/95.png'},\n",
       "      'goalsHomeTeam': 5,\n",
       "      'goalsAwayTeam': 2,\n",
       "      'score': {'halftime': '3-1',\n",
       "       'fulltime': '5-2',\n",
       "       'extratime': None,\n",
       "       'penalty': None}},\n",
       "     {'fixture_id': 37712,\n",
       "      'league_id': 4,\n",
       "      'event_date': '2018-12-05T20:00:00+00:00',\n",
       "      'event_timestamp': 1544040000,\n",
       "      'firstHalfStart': 1544040000,\n",
       "      'secondHalfStart': 1544043600,\n",
       "      'round': 'Regular Season - 16',\n",
       "      'status': 'Match Finished',\n",
       "      'statusShort': 'FT',\n",
       "      'elapsed': 90,\n",
       "      'venue': 'Stade de la Meinau, Strasbourg',\n",
       "      'referee': 'Antony Gautier, France',\n",
       "      'homeTeam': {'team_id': 95,\n",
       "       'team_name': 'Strasbourg',\n",
       "       'logo': 'https://media.api-football.com/teams/95.png'},\n",
       "      'awayTeam': {'team_id': 85,\n",
       "       'team_name': 'Paris Saint Germain',\n",
       "       'logo': 'https://media.api-football.com/teams/85.png'},\n",
       "      'goalsHomeTeam': 1,\n",
       "      'goalsAwayTeam': 1,\n",
       "      'score': {'halftime': '1-0',\n",
       "       'fulltime': '1-1',\n",
       "       'extratime': None,\n",
       "       'penalty': None}},\n",
       "     {'fixture_id': 121449,\n",
       "      'league_id': 436,\n",
       "      'event_date': '2019-01-23T20:05:00+00:00',\n",
       "      'event_timestamp': 1548273900,\n",
       "      'firstHalfStart': 1548273900,\n",
       "      'secondHalfStart': 1548277500,\n",
       "      'round': '16th Finals',\n",
       "      'status': 'Match Finished',\n",
       "      'statusShort': 'FT',\n",
       "      'elapsed': 90,\n",
       "      'venue': 'Parc des Princes, Paris',\n",
       "      'referee': 'Johan Hamel, France',\n",
       "      'homeTeam': {'team_id': 85,\n",
       "       'team_name': 'Paris Saint Germain',\n",
       "       'logo': 'https://media.api-football.com/teams/85.png'},\n",
       "      'awayTeam': {'team_id': 95,\n",
       "       'team_name': 'Strasbourg',\n",
       "       'logo': 'https://media.api-football.com/teams/95.png'},\n",
       "      'goalsHomeTeam': 2,\n",
       "      'goalsAwayTeam': 0,\n",
       "      'score': {'halftime': '1-0',\n",
       "       'fulltime': '2-0',\n",
       "       'extratime': None,\n",
       "       'penalty': None}},\n",
       "     {'fixture_id': 37860,\n",
       "      'league_id': 4,\n",
       "      'event_date': '2019-04-07T19:00:00+00:00',\n",
       "      'event_timestamp': 1554663600,\n",
       "      'firstHalfStart': 1554663600,\n",
       "      'secondHalfStart': 1554667200,\n",
       "      'round': 'Regular Season - 31',\n",
       "      'status': 'Match Finished',\n",
       "      'statusShort': 'FT',\n",
       "      'elapsed': 90,\n",
       "      'venue': 'Parc des Princes, Paris',\n",
       "      'referee': 'Thomas Leonard, France',\n",
       "      'homeTeam': {'team_id': 85,\n",
       "       'team_name': 'Paris Saint Germain',\n",
       "       'logo': 'https://media.api-football.com/teams/85.png'},\n",
       "      'awayTeam': {'team_id': 95,\n",
       "       'team_name': 'Strasbourg',\n",
       "       'logo': 'https://media.api-football.com/teams/95.png'},\n",
       "      'goalsHomeTeam': 2,\n",
       "      'goalsAwayTeam': 2,\n",
       "      'score': {'halftime': '1-2',\n",
       "       'fulltime': '2-2',\n",
       "       'extratime': None,\n",
       "       'penalty': None}}],\n",
       "    'comparison': {'forme': {'home': '75%', 'away': '25%'},\n",
       "     'att': {'home': '77%', 'away': '23%'},\n",
       "     'def': {'home': '71%', 'away': '29%'},\n",
       "     'fish_law': {'home': '0%', 'away': '0%'},\n",
       "     'h2h': {'home': '85%', 'away': '15%'},\n",
       "     'goals_h2h': {'home': '67%', 'away': '33%'}}}]}}"
      ]
     },
     "execution_count": 11,
     "metadata": {},
     "output_type": "execute_result"
    }
   ],
   "source": [
    "json.loads(response.text)"
   ]
  },
  {
   "cell_type": "code",
   "execution_count": 12,
   "metadata": {},
   "outputs": [
    {
     "data": {
      "text/plain": [
       "'https://api-football-v1.p.rapidapi.com/v2/leagues/'"
      ]
     },
     "execution_count": 12,
     "metadata": {},
     "output_type": "execute_result"
    }
   ],
   "source": [
    "base_url = 'https://api-football-v1.p.rapidapi.com/v2/'\n",
    "leagues_url = base_url + 'leagues/'\n",
    "leagues_url"
   ]
  },
  {
   "cell_type": "code",
   "execution_count": 21,
   "metadata": {},
   "outputs": [],
   "source": [
    "def api_call(url):\n",
    "    response = requests.request(\"GET\", url, headers=headers)\n",
    "    # Return a dictionary of the response text\n",
    "    return json.loads(response.text)"
   ]
  },
  {
   "cell_type": "code",
   "execution_count": 22,
   "metadata": {},
   "outputs": [],
   "source": [
    "available_leagues = api_call(leagues_url)"
   ]
  },
  {
   "cell_type": "code",
   "execution_count": 26,
   "metadata": {},
   "outputs": [],
   "source": [
    "import pandas as pd"
   ]
  },
  {
   "cell_type": "code",
   "execution_count": 28,
   "metadata": {},
   "outputs": [],
   "source": [
    "leagues_df = pd.DataFrame.from_dict(available_leagues['api']['leagues'])"
   ]
  },
  {
   "cell_type": "code",
   "execution_count": 54,
   "metadata": {},
   "outputs": [
    {
     "data": {
      "text/plain": [
       "524"
      ]
     },
     "execution_count": 54,
     "metadata": {},
     "output_type": "execute_result"
    }
   ],
   "source": [
    "premier_league_id = leagues_df[(leagues_df.country == 'England') & (leagues_df.is_current == 1) & (leagues_df.name == 'Premier League')].league_id\n",
    "premier_league_id.values[0]"
   ]
  },
  {
   "cell_type": "markdown",
   "metadata": {},
   "source": [
    "### API Relationships\n",
    "__Fixture__ - need {league_id}  \n",
    "__Events__ - need {fixture_id}"
   ]
  },
  {
   "cell_type": "code",
   "execution_count": 55,
   "metadata": {},
   "outputs": [
    {
     "data": {
      "text/plain": [
       "'https://api-football-v1.p.rapidapi.com/v2/fixtures/league/524'"
      ]
     },
     "execution_count": 55,
     "metadata": {},
     "output_type": "execute_result"
    }
   ],
   "source": [
    "league_fixtures = base_url + 'fixtures/league/' + str(premier_league_id.values[0])\n",
    "league_fixtures"
   ]
  },
  {
   "cell_type": "code",
   "execution_count": 57,
   "metadata": {},
   "outputs": [],
   "source": [
    "league_fixtures = api_call(league_fixtures)"
   ]
  },
  {
   "cell_type": "code",
   "execution_count": 68,
   "metadata": {},
   "outputs": [],
   "source": [
    "first_game = league_fixtures['api']['fixtures'][0]"
   ]
  },
  {
   "cell_type": "code",
   "execution_count": 69,
   "metadata": {},
   "outputs": [
    {
     "data": {
      "text/plain": [
       "{'fixture_id': 157015,\n",
       " 'league_id': 524,\n",
       " 'event_date': '2019-08-09T19:00:00+00:00',\n",
       " 'event_timestamp': 1565377200,\n",
       " 'firstHalfStart': 1565377200,\n",
       " 'secondHalfStart': 1565380800,\n",
       " 'round': 'Regular Season - 1',\n",
       " 'status': 'Match Finished',\n",
       " 'statusShort': 'FT',\n",
       " 'elapsed': 90,\n",
       " 'venue': 'Anfield (Liverpool)',\n",
       " 'referee': 'Michael Oliver, England',\n",
       " 'homeTeam': {'team_id': 40,\n",
       "  'team_name': 'Liverpool',\n",
       "  'logo': 'https://media.api-football.com/teams/40.png'},\n",
       " 'awayTeam': {'team_id': 71,\n",
       "  'team_name': 'Norwich',\n",
       "  'logo': 'https://media.api-football.com/teams/71.png'},\n",
       " 'goalsHomeTeam': 4,\n",
       " 'goalsAwayTeam': 1,\n",
       " 'score': {'halftime': '4-0',\n",
       "  'fulltime': '4-1',\n",
       "  'extratime': None,\n",
       "  'penalty': None}}"
      ]
     },
     "execution_count": 69,
     "metadata": {},
     "output_type": "execute_result"
    }
   ],
   "source": [
    "first_game"
   ]
  },
  {
   "cell_type": "markdown",
   "metadata": {},
   "source": [
    "I thought that it would be a good idea to create classes for various objects related to the data we are storing. "
   ]
  },
  {
   "cell_type": "code",
   "execution_count": 105,
   "metadata": {},
   "outputs": [],
   "source": [
    "# Define an object orientated approach for a match\n",
    "class Match():\n",
    "    def __init__(self, match_json):\n",
    "        self.match_json = match_json\n",
    "        self.home_team = match_json['homeTeam']['team_name']\n",
    "        self.away_team = match_json['awayTeam']['team_name']\n",
    "        self.fixture_id = match_json['fixture_id']\n",
    "        \n",
    "    def fixture(self):\n",
    "        return(self.home_team + ' vs. ' + self.away_team)\n",
    "    \n",
    "    def final_score(self):\n",
    "        return(self.match_json['score']['fulltime'])"
   ]
  },
  {
   "cell_type": "code",
   "execution_count": 106,
   "metadata": {},
   "outputs": [],
   "source": [
    "first_game_obj = Match(first_game)"
   ]
  },
  {
   "cell_type": "code",
   "execution_count": 107,
   "metadata": {},
   "outputs": [
    {
     "data": {
      "text/plain": [
       "'Liverpool vs. Norwich'"
      ]
     },
     "execution_count": 107,
     "metadata": {},
     "output_type": "execute_result"
    }
   ],
   "source": [
    "first_game_obj.fixture()"
   ]
  },
  {
   "cell_type": "code",
   "execution_count": 108,
   "metadata": {},
   "outputs": [
    {
     "data": {
      "text/plain": [
       "'4-1'"
      ]
     },
     "execution_count": 108,
     "metadata": {},
     "output_type": "execute_result"
    }
   ],
   "source": [
    "first_game_obj.final_score()"
   ]
  },
  {
   "cell_type": "markdown",
   "metadata": {},
   "source": [
    "### Events\n",
    "We need _{fixture_id}_ to grab the events that the API offers for a given match. "
   ]
  },
  {
   "cell_type": "code",
   "execution_count": 103,
   "metadata": {},
   "outputs": [],
   "source": [
    "events_url = base_url + 'events/'"
   ]
  },
  {
   "cell_type": "code",
   "execution_count": 111,
   "metadata": {},
   "outputs": [
    {
     "data": {
      "text/plain": [
       "'https://api-football-v1.p.rapidapi.com/v2/events/157015'"
      ]
     },
     "execution_count": 111,
     "metadata": {},
     "output_type": "execute_result"
    }
   ],
   "source": [
    "first_game_url = events_url + str(first_game_obj.fixture_id);first_game_url"
   ]
  },
  {
   "cell_type": "code",
   "execution_count": 115,
   "metadata": {},
   "outputs": [],
   "source": [
    "events = api_call(first_game_url)['api']"
   ]
  },
  {
   "cell_type": "code",
   "execution_count": 117,
   "metadata": {},
   "outputs": [
    {
     "data": {
      "text/plain": [
       "[{'elapsed': 7,\n",
       "  'team_id': 40,\n",
       "  'teamName': 'Liverpool',\n",
       "  'player_id': 19066,\n",
       "  'player': 'Grant Hanley',\n",
       "  'assist_id': None,\n",
       "  'assist': None,\n",
       "  'type': 'Goal',\n",
       "  'detail': 'Own Goal'},\n",
       " {'elapsed': 19,\n",
       "  'team_id': 40,\n",
       "  'teamName': 'Liverpool',\n",
       "  'player_id': 306,\n",
       "  'player': 'Mohamed Salah',\n",
       "  'assist_id': 302,\n",
       "  'assist': 'Roberto Firmino',\n",
       "  'type': 'Goal',\n",
       "  'detail': 'Normal Goal'},\n",
       " {'elapsed': 28,\n",
       "  'team_id': 40,\n",
       "  'teamName': 'Liverpool',\n",
       "  'player_id': 290,\n",
       "  'player': 'Virgil van Dijk',\n",
       "  'assist_id': 306,\n",
       "  'assist': 'Mohamed Salah',\n",
       "  'type': 'Goal',\n",
       "  'detail': 'Normal Goal'},\n",
       " {'elapsed': 39,\n",
       "  'team_id': 40,\n",
       "  'teamName': 'Liverpool',\n",
       "  'player_id': 280,\n",
       "  'player': 'Alisson',\n",
       "  'assist_id': 18812,\n",
       "  'assist': 'Adrián',\n",
       "  'type': 'subst',\n",
       "  'detail': 'Adrián'},\n",
       " {'elapsed': 42,\n",
       "  'team_id': 40,\n",
       "  'teamName': 'Liverpool',\n",
       "  'player_id': 305,\n",
       "  'player': 'Divock Origi',\n",
       "  'assist_id': 283,\n",
       "  'assist': 'Trent Alexander-Arnold',\n",
       "  'type': 'Goal',\n",
       "  'detail': 'Normal Goal'},\n",
       " {'elapsed': 58,\n",
       "  'team_id': 71,\n",
       "  'teamName': 'Norwich',\n",
       "  'player_id': 19078,\n",
       "  'player': 'Marco Stiepermann',\n",
       "  'assist_id': 19075,\n",
       "  'assist': 'Moritz Leitner',\n",
       "  'type': 'subst',\n",
       "  'detail': 'Moritz Leitner'},\n",
       " {'elapsed': 60,\n",
       "  'team_id': 71,\n",
       "  'teamName': 'Norwich',\n",
       "  'player_id': 19075,\n",
       "  'player': 'Moritz Leitner',\n",
       "  'assist_id': None,\n",
       "  'assist': None,\n",
       "  'type': 'Card',\n",
       "  'detail': 'Yellow Card'},\n",
       " {'elapsed': 64,\n",
       "  'team_id': 71,\n",
       "  'teamName': 'Norwich',\n",
       "  'player_id': 19085,\n",
       "  'player': 'Teemu Pukki',\n",
       "  'assist_id': 19071,\n",
       "  'assist': 'Emiliano Buendia',\n",
       "  'type': 'Goal',\n",
       "  'detail': 'Normal Goal'},\n",
       " {'elapsed': 65,\n",
       "  'team_id': 71,\n",
       "  'teamName': 'Norwich',\n",
       "  'player_id': 19071,\n",
       "  'player': 'Emiliano Buendia',\n",
       "  'assist_id': None,\n",
       "  'assist': None,\n",
       "  'type': 'Card',\n",
       "  'detail': 'Yellow Card'},\n",
       " {'elapsed': 70,\n",
       "  'team_id': 71,\n",
       "  'teamName': 'Norwich',\n",
       "  'player_id': 19081,\n",
       "  'player': 'Tom Trybull',\n",
       "  'assist_id': 19074,\n",
       "  'assist': 'Onel Hernández',\n",
       "  'type': 'subst',\n",
       "  'detail': 'Onel Hernández'},\n",
       " {'elapsed': 74,\n",
       "  'team_id': 40,\n",
       "  'teamName': 'Liverpool',\n",
       "  'player_id': 305,\n",
       "  'player': 'Divock Origi',\n",
       "  'assist_id': 304,\n",
       "  'assist': 'Sadio Mané',\n",
       "  'type': 'subst',\n",
       "  'detail': 'Sadio Mané'},\n",
       " {'elapsed': 83,\n",
       "  'team_id': 71,\n",
       "  'teamName': 'Norwich',\n",
       "  'player_id': 19085,\n",
       "  'player': 'Teemu Pukki',\n",
       "  'assist_id': 25643,\n",
       "  'assist': 'Josip Drmić',\n",
       "  'type': 'subst',\n",
       "  'detail': 'Josip Drmić'},\n",
       " {'elapsed': 86,\n",
       "  'team_id': 40,\n",
       "  'teamName': 'Liverpool',\n",
       "  'player_id': 302,\n",
       "  'player': 'Roberto Firmino',\n",
       "  'assist_id': 296,\n",
       "  'assist': 'James Milner',\n",
       "  'type': 'subst',\n",
       "  'detail': 'James Milner'}]"
      ]
     },
     "execution_count": 117,
     "metadata": {},
     "output_type": "execute_result"
    }
   ],
   "source": [
    "events['events']"
   ]
  },
  {
   "cell_type": "markdown",
   "metadata": {},
   "source": [
    "Create a class that allows for easily pulling the goals from an _Events_ response. "
   ]
  },
  {
   "cell_type": "code",
   "execution_count": 208,
   "metadata": {},
   "outputs": [],
   "source": [
    "import numpy as np\n",
    "\n",
    "class Events:\n",
    "    def __init__(self, match_events_json):\n",
    "        self.n_events = match_events_json['results']\n",
    "        self.events = match_events_json['events']\n",
    "        events_df = pd.DataFrame.from_dict(match_events_json['events'])\n",
    "        self.events_df = events_df\n",
    "        \n",
    "    def goals(self):\n",
    "        goals = self.events_df[self.events_df['type'] == 'Goal'][['type', 'detail', 'player', 'teamName', 'elapsed']].set_index('elapsed')\n",
    "        goals.index.rename('mins', inplace=True)\n",
    "        return(goals)"
   ]
  },
  {
   "cell_type": "code",
   "execution_count": 211,
   "metadata": {},
   "outputs": [
    {
     "data": {
      "text/html": [
       "<div>\n",
       "<style scoped>\n",
       "    .dataframe tbody tr th:only-of-type {\n",
       "        vertical-align: middle;\n",
       "    }\n",
       "\n",
       "    .dataframe tbody tr th {\n",
       "        vertical-align: top;\n",
       "    }\n",
       "\n",
       "    .dataframe thead th {\n",
       "        text-align: right;\n",
       "    }\n",
       "</style>\n",
       "<table border=\"1\" class=\"dataframe\">\n",
       "  <thead>\n",
       "    <tr style=\"text-align: right;\">\n",
       "      <th></th>\n",
       "      <th>type</th>\n",
       "      <th>detail</th>\n",
       "      <th>player</th>\n",
       "      <th>teamName</th>\n",
       "    </tr>\n",
       "    <tr>\n",
       "      <th>mins</th>\n",
       "      <th></th>\n",
       "      <th></th>\n",
       "      <th></th>\n",
       "      <th></th>\n",
       "    </tr>\n",
       "  </thead>\n",
       "  <tbody>\n",
       "    <tr>\n",
       "      <th>7</th>\n",
       "      <td>Goal</td>\n",
       "      <td>Own Goal</td>\n",
       "      <td>Grant Hanley</td>\n",
       "      <td>Liverpool</td>\n",
       "    </tr>\n",
       "    <tr>\n",
       "      <th>19</th>\n",
       "      <td>Goal</td>\n",
       "      <td>Normal Goal</td>\n",
       "      <td>Mohamed Salah</td>\n",
       "      <td>Liverpool</td>\n",
       "    </tr>\n",
       "    <tr>\n",
       "      <th>28</th>\n",
       "      <td>Goal</td>\n",
       "      <td>Normal Goal</td>\n",
       "      <td>Virgil van Dijk</td>\n",
       "      <td>Liverpool</td>\n",
       "    </tr>\n",
       "    <tr>\n",
       "      <th>42</th>\n",
       "      <td>Goal</td>\n",
       "      <td>Normal Goal</td>\n",
       "      <td>Divock Origi</td>\n",
       "      <td>Liverpool</td>\n",
       "    </tr>\n",
       "    <tr>\n",
       "      <th>64</th>\n",
       "      <td>Goal</td>\n",
       "      <td>Normal Goal</td>\n",
       "      <td>Teemu Pukki</td>\n",
       "      <td>Norwich</td>\n",
       "    </tr>\n",
       "  </tbody>\n",
       "</table>\n",
       "</div>"
      ],
      "text/plain": [
       "      type       detail           player   teamName\n",
       "mins                                               \n",
       "7     Goal     Own Goal     Grant Hanley  Liverpool\n",
       "19    Goal  Normal Goal    Mohamed Salah  Liverpool\n",
       "28    Goal  Normal Goal  Virgil van Dijk  Liverpool\n",
       "42    Goal  Normal Goal     Divock Origi  Liverpool\n",
       "64    Goal  Normal Goal      Teemu Pukki    Norwich"
      ]
     },
     "execution_count": 211,
     "metadata": {},
     "output_type": "execute_result"
    }
   ],
   "source": [
    "Events(events).goals()"
   ]
  },
  {
   "cell_type": "code",
   "execution_count": 271,
   "metadata": {},
   "outputs": [],
   "source": [
    "stats = api_call(base_url + 'statistics/fixture/{0}'.format(first_game_obj.fixture_id))"
   ]
  },
  {
   "cell_type": "code",
   "execution_count": 272,
   "metadata": {},
   "outputs": [
    {
     "data": {
      "text/plain": [
       "{'Shots on Goal': {'home': '7', 'away': '5'},\n",
       " 'Shots off Goal': {'home': '5', 'away': '6'},\n",
       " 'Total Shots': {'home': '15', 'away': '12'},\n",
       " 'Blocked Shots': {'home': '3', 'away': '1'},\n",
       " 'Shots insidebox': {'home': '11', 'away': '8'},\n",
       " 'Shots outsidebox': {'home': '4', 'away': '4'},\n",
       " 'Fouls': {'home': '9', 'away': '9'},\n",
       " 'Corner Kicks': {'home': '11', 'away': '2'},\n",
       " 'Offsides': {'home': '0', 'away': '5'},\n",
       " 'Ball Possession': {'home': '58%', 'away': '42%'},\n",
       " 'Yellow Cards': {'home': '0', 'away': '2'},\n",
       " 'Red Cards': {'home': None, 'away': None},\n",
       " 'Goalkeeper Saves': {'home': '4', 'away': '4'},\n",
       " 'Total passes': {'home': '477', 'away': '361'},\n",
       " 'Passes accurate': {'home': '387', 'away': '277'},\n",
       " 'Passes %': {'home': None, 'away': None}}"
      ]
     },
     "execution_count": 272,
     "metadata": {},
     "output_type": "execute_result"
    }
   ],
   "source": [
    "stats['api']['statistics']"
   ]
  },
  {
   "cell_type": "markdown",
   "metadata": {},
   "source": [
    "Start working on the _Stats_ object that produces a `pd.DataFrame` for the stats from a match. "
   ]
  },
  {
   "cell_type": "code",
   "execution_count": 273,
   "metadata": {},
   "outputs": [],
   "source": [
    "class Stats:\n",
    "    def __init__(self, stats_json):\n",
    "        self.stats_json_clean = str(stats_json).replace(\"%\", \"\")\n",
    "        self.stats_json = stats_json\n",
    "        \n",
    "    def df(self):\n",
    "        return(pd.DataFrame.from_dict(eval(self.stats_json_clean)))"
   ]
  },
  {
   "cell_type": "code",
   "execution_count": 278,
   "metadata": {},
   "outputs": [
    {
     "data": {
      "text/html": [
       "<div>\n",
       "<style scoped>\n",
       "    .dataframe tbody tr th:only-of-type {\n",
       "        vertical-align: middle;\n",
       "    }\n",
       "\n",
       "    .dataframe tbody tr th {\n",
       "        vertical-align: top;\n",
       "    }\n",
       "\n",
       "    .dataframe thead th {\n",
       "        text-align: right;\n",
       "    }\n",
       "</style>\n",
       "<table border=\"1\" class=\"dataframe\">\n",
       "  <thead>\n",
       "    <tr style=\"text-align: right;\">\n",
       "      <th></th>\n",
       "      <th>Shots on Goal</th>\n",
       "      <th>Shots off Goal</th>\n",
       "      <th>Total Shots</th>\n",
       "      <th>Blocked Shots</th>\n",
       "      <th>Shots insidebox</th>\n",
       "      <th>Shots outsidebox</th>\n",
       "      <th>Fouls</th>\n",
       "      <th>Corner Kicks</th>\n",
       "      <th>Offsides</th>\n",
       "      <th>Ball Possession</th>\n",
       "      <th>Yellow Cards</th>\n",
       "      <th>Red Cards</th>\n",
       "      <th>Goalkeeper Saves</th>\n",
       "      <th>Total passes</th>\n",
       "      <th>Passes accurate</th>\n",
       "      <th>Passes</th>\n",
       "    </tr>\n",
       "  </thead>\n",
       "  <tbody>\n",
       "    <tr>\n",
       "      <th>away</th>\n",
       "      <td>5</td>\n",
       "      <td>6</td>\n",
       "      <td>12</td>\n",
       "      <td>1</td>\n",
       "      <td>8</td>\n",
       "      <td>4</td>\n",
       "      <td>9</td>\n",
       "      <td>2</td>\n",
       "      <td>5</td>\n",
       "      <td>42</td>\n",
       "      <td>2</td>\n",
       "      <td>NaN</td>\n",
       "      <td>4</td>\n",
       "      <td>361</td>\n",
       "      <td>277</td>\n",
       "      <td>NaN</td>\n",
       "    </tr>\n",
       "    <tr>\n",
       "      <th>home</th>\n",
       "      <td>7</td>\n",
       "      <td>5</td>\n",
       "      <td>15</td>\n",
       "      <td>3</td>\n",
       "      <td>11</td>\n",
       "      <td>4</td>\n",
       "      <td>9</td>\n",
       "      <td>11</td>\n",
       "      <td>0</td>\n",
       "      <td>58</td>\n",
       "      <td>0</td>\n",
       "      <td>NaN</td>\n",
       "      <td>4</td>\n",
       "      <td>477</td>\n",
       "      <td>387</td>\n",
       "      <td>NaN</td>\n",
       "    </tr>\n",
       "  </tbody>\n",
       "</table>\n",
       "</div>"
      ],
      "text/plain": [
       "     Shots on Goal Shots off Goal Total Shots Blocked Shots Shots insidebox  \\\n",
       "away             5              6          12             1               8   \n",
       "home             7              5          15             3              11   \n",
       "\n",
       "     Shots outsidebox Fouls Corner Kicks Offsides Ball Possession  \\\n",
       "away                4     9            2        5              42   \n",
       "home                4     9           11        0              58   \n",
       "\n",
       "     Yellow Cards  Red Cards Goalkeeper Saves Total passes Passes accurate  \\\n",
       "away            2        NaN                4          361             277   \n",
       "home            0        NaN                4          477             387   \n",
       "\n",
       "      Passes   \n",
       "away      NaN  \n",
       "home      NaN  "
      ]
     },
     "execution_count": 278,
     "metadata": {},
     "output_type": "execute_result"
    }
   ],
   "source": [
    "Stats(stats['api']['statistics']).df().fillna(value=pd.np.nan)"
   ]
  },
  {
   "cell_type": "code",
   "execution_count": 275,
   "metadata": {},
   "outputs": [
    {
     "data": {
      "text/plain": [
       "{'Shots on Goal': {'home': '7', 'away': '5'},\n",
       " 'Shots off Goal': {'home': '5', 'away': '6'},\n",
       " 'Total Shots': {'home': '15', 'away': '12'},\n",
       " 'Blocked Shots': {'home': '3', 'away': '1'},\n",
       " 'Shots insidebox': {'home': '11', 'away': '8'},\n",
       " 'Shots outsidebox': {'home': '4', 'away': '4'},\n",
       " 'Fouls': {'home': '9', 'away': '9'},\n",
       " 'Corner Kicks': {'home': '11', 'away': '2'},\n",
       " 'Offsides': {'home': '0', 'away': '5'},\n",
       " 'Ball Possession': {'home': '58%', 'away': '42%'},\n",
       " 'Yellow Cards': {'home': '0', 'away': '2'},\n",
       " 'Red Cards': {'home': None, 'away': None},\n",
       " 'Goalkeeper Saves': {'home': '4', 'away': '4'},\n",
       " 'Total passes': {'home': '477', 'away': '361'},\n",
       " 'Passes accurate': {'home': '387', 'away': '277'},\n",
       " 'Passes %': {'home': None, 'away': None}}"
      ]
     },
     "execution_count": 275,
     "metadata": {},
     "output_type": "execute_result"
    }
   ],
   "source": [
    "Stats(stats['api']['statistics']).stats_json"
   ]
  },
  {
   "cell_type": "code",
   "execution_count": 303,
   "metadata": {},
   "outputs": [],
   "source": [
    "testing = stats['api']['statistics']"
   ]
  },
  {
   "cell_type": "code",
   "execution_count": 304,
   "metadata": {},
   "outputs": [],
   "source": [
    "for key, value in testing.items():\n",
    "    for value_key, value_value in value.items():\n",
    "        if value_value != None and value_value != np.nan:\n",
    "            testing[key][value_key] = str(value_value).replace('%', '')\n",
    "        else:\n",
    "            testing[key][value_key] = np.NaN"
   ]
  },
  {
   "cell_type": "code",
   "execution_count": 305,
   "metadata": {},
   "outputs": [
    {
     "data": {
      "text/plain": [
       "{'Shots on Goal': {'home': '7', 'away': '5'},\n",
       " 'Shots off Goal': {'home': '5', 'away': '6'},\n",
       " 'Total Shots': {'home': '15', 'away': '12'},\n",
       " 'Blocked Shots': {'home': '3', 'away': '1'},\n",
       " 'Shots insidebox': {'home': '11', 'away': '8'},\n",
       " 'Shots outsidebox': {'home': '4', 'away': '4'},\n",
       " 'Fouls': {'home': '9', 'away': '9'},\n",
       " 'Corner Kicks': {'home': '11', 'away': '2'},\n",
       " 'Offsides': {'home': '0', 'away': '5'},\n",
       " 'Ball Possession': {'home': '58', 'away': '42'},\n",
       " 'Yellow Cards': {'home': '0', 'away': '2'},\n",
       " 'Red Cards': {'home': 'nan', 'away': 'nan'},\n",
       " 'Goalkeeper Saves': {'home': '4', 'away': '4'},\n",
       " 'Total passes': {'home': '477', 'away': '361'},\n",
       " 'Passes accurate': {'home': '387', 'away': '277'},\n",
       " 'Passes %': {'home': 'nan', 'away': 'nan'}}"
      ]
     },
     "execution_count": 305,
     "metadata": {},
     "output_type": "execute_result"
    }
   ],
   "source": [
    "testing"
   ]
  }
 ],
 "metadata": {
  "kernelspec": {
   "display_name": "Python 3",
   "language": "python",
   "name": "python3"
  },
  "language_info": {
   "codemirror_mode": {
    "name": "ipython",
    "version": 3
   },
   "file_extension": ".py",
   "mimetype": "text/x-python",
   "name": "python",
   "nbconvert_exporter": "python",
   "pygments_lexer": "ipython3",
   "version": "3.7.5"
  }
 },
 "nbformat": 4,
 "nbformat_minor": 4
}
