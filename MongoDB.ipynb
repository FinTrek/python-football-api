{
 "cells": [
  {
   "cell_type": "markdown",
   "metadata": {},
   "source": [
    "# MongoDB and `pymongo`\n",
    "I wanted to try and store the responses from the API calls in a singular place, engineering a structure that allows for easier access and querying. I thought that I would give `pymongo` a try to learn some more about the process and try to create a structure for storing multiple API call responses in a single place. "
   ]
  },
  {
   "cell_type": "markdown",
   "metadata": {},
   "source": [
    "Basic guide to MongoDB in Python can be found [here](https://www.mongodb.com/blog/post/getting-started-with-python-and-mongodb). "
   ]
  },
  {
   "cell_type": "code",
   "execution_count": 20,
   "metadata": {},
   "outputs": [],
   "source": [
    "from random import randint\n",
    "import pandas as pd\n",
    "import pymongo \n",
    "import os "
   ]
  },
  {
   "cell_type": "markdown",
   "metadata": {},
   "source": [
    "Use conda environment to store the details for MongoDB. "
   ]
  },
  {
   "cell_type": "code",
   "execution_count": 7,
   "metadata": {},
   "outputs": [],
   "source": [
    "mongodb_password = os.environ.get(\"mongodb_password\")\n",
    "mongodb_user = os.environ.get(\"mongodb_user\")"
   ]
  },
  {
   "cell_type": "markdown",
   "metadata": {},
   "source": [
    "Use the tutorial example given [here](https://www.mongodb.com/blog/post/getting-started-with-python-and-mongodb) to generate some fake results. "
   ]
  },
  {
   "cell_type": "code",
   "execution_count": 8,
   "metadata": {},
   "outputs": [],
   "source": [
    "client = pymongo.MongoClient(\"mongodb+srv://\" + mongodb_user + \":\" + mongodb_password + \"@basiccluster-6s0er.mongodb.net/test?retryWrites=true&w=majority\")\n",
    "db = client.test\n",
    "\n",
    "# Step 2: Create sample data\n",
    "names = ['Kitchen','Animal','State', 'Tastey', 'Big','City','Fish', 'Pizza','Goat', 'Salty','Sandwich','Lazy', 'Fun']\n",
    "company_type = ['LLC','Inc','Company','Corporation']\n",
    "company_cuisine = ['Pizza', 'Bar Food', 'Fast Food', 'Italian', 'Mexican', 'American', 'Sushi Bar', 'Vegetarian']"
   ]
  },
  {
   "cell_type": "code",
   "execution_count": 12,
   "metadata": {},
   "outputs": [],
   "source": [
    "for x in range(1, 11):\n",
    "    business = {\n",
    "        'name' : names[randint(0, (len(names)-1))] + ' ' + names[randint(0, (len(names)-1))]  + ' ' + company_type[randint(0, (len(company_type)-1))],\n",
    "        'rating' : randint(1, 5),\n",
    "        'cuisine' : company_cuisine[randint(0, (len(company_cuisine)-1))] \n",
    "    }\n",
    "    # Step 3: Insert business object directly into MongoDB via isnert_one\n",
    "    result=db.reviews.insert_one(business)"
   ]
  },
  {
   "cell_type": "code",
   "execution_count": 50,
   "metadata": {},
   "outputs": [
    {
     "data": {
      "text/plain": [
       "{'_id': ObjectId('5dbf00053c8fe0cd8642a28b'),\n",
       " 'name': 'State Sandwich Company',\n",
       " 'rating': 5,\n",
       " 'cuisine': 'Pizza'}"
      ]
     },
     "execution_count": 50,
     "metadata": {},
     "output_type": "execute_result"
    }
   ],
   "source": [
    "db.reviews.find_one()"
   ]
  },
  {
   "cell_type": "code",
   "execution_count": 51,
   "metadata": {},
   "outputs": [
    {
     "data": {
      "text/html": [
       "<div>\n",
       "<style scoped>\n",
       "    .dataframe tbody tr th:only-of-type {\n",
       "        vertical-align: middle;\n",
       "    }\n",
       "\n",
       "    .dataframe tbody tr th {\n",
       "        vertical-align: top;\n",
       "    }\n",
       "\n",
       "    .dataframe thead th {\n",
       "        text-align: right;\n",
       "    }\n",
       "</style>\n",
       "<table border=\"1\" class=\"dataframe\">\n",
       "  <thead>\n",
       "    <tr style=\"text-align: right;\">\n",
       "      <th></th>\n",
       "      <th>_id</th>\n",
       "      <th>name</th>\n",
       "      <th>rating</th>\n",
       "      <th>cuisine</th>\n",
       "    </tr>\n",
       "  </thead>\n",
       "  <tbody>\n",
       "    <tr>\n",
       "      <th>0</th>\n",
       "      <td>5dbf00053c8fe0cd8642a28b</td>\n",
       "      <td>State Sandwich Company</td>\n",
       "      <td>5</td>\n",
       "      <td>Pizza</td>\n",
       "    </tr>\n",
       "    <tr>\n",
       "      <th>1</th>\n",
       "      <td>5dbf00053c8fe0cd8642a28c</td>\n",
       "      <td>State Animal Inc</td>\n",
       "      <td>1</td>\n",
       "      <td>Sushi Bar</td>\n",
       "    </tr>\n",
       "    <tr>\n",
       "      <th>2</th>\n",
       "      <td>5dbf00053c8fe0cd8642a28d</td>\n",
       "      <td>Lazy Fun Inc</td>\n",
       "      <td>3</td>\n",
       "      <td>Sushi Bar</td>\n",
       "    </tr>\n",
       "    <tr>\n",
       "      <th>3</th>\n",
       "      <td>5dbf00053c8fe0cd8642a28e</td>\n",
       "      <td>Lazy City LLC</td>\n",
       "      <td>1</td>\n",
       "      <td>American</td>\n",
       "    </tr>\n",
       "    <tr>\n",
       "      <th>4</th>\n",
       "      <td>5dbf00053c8fe0cd8642a28f</td>\n",
       "      <td>Fun Salty Corporation</td>\n",
       "      <td>4</td>\n",
       "      <td>Italian</td>\n",
       "    </tr>\n",
       "    <tr>\n",
       "      <th>...</th>\n",
       "      <td>...</td>\n",
       "      <td>...</td>\n",
       "      <td>...</td>\n",
       "      <td>...</td>\n",
       "    </tr>\n",
       "    <tr>\n",
       "      <th>505</th>\n",
       "      <td>5dbf026bc96ca4e63d11fd3a</td>\n",
       "      <td>Fish Pizza Corporation</td>\n",
       "      <td>1</td>\n",
       "      <td>Fast Food</td>\n",
       "    </tr>\n",
       "    <tr>\n",
       "      <th>506</th>\n",
       "      <td>5dbf026bc96ca4e63d11fd3b</td>\n",
       "      <td>Pizza Goat Corporation</td>\n",
       "      <td>2</td>\n",
       "      <td>Sushi Bar</td>\n",
       "    </tr>\n",
       "    <tr>\n",
       "      <th>507</th>\n",
       "      <td>5dbf026bc96ca4e63d11fd3c</td>\n",
       "      <td>Sandwich Lazy Company</td>\n",
       "      <td>4</td>\n",
       "      <td>Vegetarian</td>\n",
       "    </tr>\n",
       "    <tr>\n",
       "      <th>508</th>\n",
       "      <td>5dbf026bc96ca4e63d11fd3d</td>\n",
       "      <td>Pizza State LLC</td>\n",
       "      <td>5</td>\n",
       "      <td>Pizza</td>\n",
       "    </tr>\n",
       "    <tr>\n",
       "      <th>509</th>\n",
       "      <td>5dbf026bc96ca4e63d11fd3e</td>\n",
       "      <td>Animal City Corporation</td>\n",
       "      <td>5</td>\n",
       "      <td>Mexican</td>\n",
       "    </tr>\n",
       "  </tbody>\n",
       "</table>\n",
       "<p>510 rows × 4 columns</p>\n",
       "</div>"
      ],
      "text/plain": [
       "                          _id                     name  rating     cuisine\n",
       "0    5dbf00053c8fe0cd8642a28b   State Sandwich Company       5       Pizza\n",
       "1    5dbf00053c8fe0cd8642a28c         State Animal Inc       1   Sushi Bar\n",
       "2    5dbf00053c8fe0cd8642a28d             Lazy Fun Inc       3   Sushi Bar\n",
       "3    5dbf00053c8fe0cd8642a28e            Lazy City LLC       1    American\n",
       "4    5dbf00053c8fe0cd8642a28f    Fun Salty Corporation       4     Italian\n",
       "..                        ...                      ...     ...         ...\n",
       "505  5dbf026bc96ca4e63d11fd3a   Fish Pizza Corporation       1   Fast Food\n",
       "506  5dbf026bc96ca4e63d11fd3b   Pizza Goat Corporation       2   Sushi Bar\n",
       "507  5dbf026bc96ca4e63d11fd3c    Sandwich Lazy Company       4  Vegetarian\n",
       "508  5dbf026bc96ca4e63d11fd3d          Pizza State LLC       5       Pizza\n",
       "509  5dbf026bc96ca4e63d11fd3e  Animal City Corporation       5     Mexican\n",
       "\n",
       "[510 rows x 4 columns]"
      ]
     },
     "execution_count": 51,
     "metadata": {},
     "output_type": "execute_result"
    }
   ],
   "source": [
    "pd.DataFrame(list(db.reviews.find()))"
   ]
  },
  {
   "cell_type": "markdown",
   "metadata": {},
   "source": [
    "Filter the collection following examples [here](https://www.w3schools.com/python/python_mongodb_query.asp). "
   ]
  },
  {
   "cell_type": "code",
   "execution_count": 52,
   "metadata": {},
   "outputs": [],
   "source": [
    "five_star_reviews = db.reviews.find({'rating': 5})"
   ]
  },
  {
   "cell_type": "code",
   "execution_count": 53,
   "metadata": {},
   "outputs": [
    {
     "data": {
      "text/html": [
       "<div>\n",
       "<style scoped>\n",
       "    .dataframe tbody tr th:only-of-type {\n",
       "        vertical-align: middle;\n",
       "    }\n",
       "\n",
       "    .dataframe tbody tr th {\n",
       "        vertical-align: top;\n",
       "    }\n",
       "\n",
       "    .dataframe thead th {\n",
       "        text-align: right;\n",
       "    }\n",
       "</style>\n",
       "<table border=\"1\" class=\"dataframe\">\n",
       "  <thead>\n",
       "    <tr style=\"text-align: right;\">\n",
       "      <th></th>\n",
       "      <th>_id</th>\n",
       "      <th>name</th>\n",
       "      <th>rating</th>\n",
       "      <th>cuisine</th>\n",
       "    </tr>\n",
       "  </thead>\n",
       "  <tbody>\n",
       "    <tr>\n",
       "      <th>0</th>\n",
       "      <td>5dbf00053c8fe0cd8642a28b</td>\n",
       "      <td>State Sandwich Company</td>\n",
       "      <td>5</td>\n",
       "      <td>Pizza</td>\n",
       "    </tr>\n",
       "    <tr>\n",
       "      <th>1</th>\n",
       "      <td>5dbf00053c8fe0cd8642a297</td>\n",
       "      <td>Fun Tastey Company</td>\n",
       "      <td>5</td>\n",
       "      <td>Italian</td>\n",
       "    </tr>\n",
       "    <tr>\n",
       "      <th>2</th>\n",
       "      <td>5dbf00053c8fe0cd8642a298</td>\n",
       "      <td>Kitchen Fish Company</td>\n",
       "      <td>5</td>\n",
       "      <td>Fast Food</td>\n",
       "    </tr>\n",
       "    <tr>\n",
       "      <th>3</th>\n",
       "      <td>5dbf00053c8fe0cd8642a29c</td>\n",
       "      <td>Tastey Big Inc</td>\n",
       "      <td>5</td>\n",
       "      <td>American</td>\n",
       "    </tr>\n",
       "    <tr>\n",
       "      <th>4</th>\n",
       "      <td>5dbf00063c8fe0cd8642a2a4</td>\n",
       "      <td>Fish Salty Inc</td>\n",
       "      <td>5</td>\n",
       "      <td>Mexican</td>\n",
       "    </tr>\n",
       "    <tr>\n",
       "      <th>...</th>\n",
       "      <td>...</td>\n",
       "      <td>...</td>\n",
       "      <td>...</td>\n",
       "      <td>...</td>\n",
       "    </tr>\n",
       "    <tr>\n",
       "      <th>105</th>\n",
       "      <td>5dbf026bc96ca4e63d11fd37</td>\n",
       "      <td>Fish Fun LLC</td>\n",
       "      <td>5</td>\n",
       "      <td>Vegetarian</td>\n",
       "    </tr>\n",
       "    <tr>\n",
       "      <th>106</th>\n",
       "      <td>5dbf026bc96ca4e63d11fd38</td>\n",
       "      <td>Kitchen Tastey Inc</td>\n",
       "      <td>5</td>\n",
       "      <td>Mexican</td>\n",
       "    </tr>\n",
       "    <tr>\n",
       "      <th>107</th>\n",
       "      <td>5dbf026bc96ca4e63d11fd39</td>\n",
       "      <td>City Fish LLC</td>\n",
       "      <td>5</td>\n",
       "      <td>Pizza</td>\n",
       "    </tr>\n",
       "    <tr>\n",
       "      <th>108</th>\n",
       "      <td>5dbf026bc96ca4e63d11fd3d</td>\n",
       "      <td>Pizza State LLC</td>\n",
       "      <td>5</td>\n",
       "      <td>Pizza</td>\n",
       "    </tr>\n",
       "    <tr>\n",
       "      <th>109</th>\n",
       "      <td>5dbf026bc96ca4e63d11fd3e</td>\n",
       "      <td>Animal City Corporation</td>\n",
       "      <td>5</td>\n",
       "      <td>Mexican</td>\n",
       "    </tr>\n",
       "  </tbody>\n",
       "</table>\n",
       "<p>110 rows × 4 columns</p>\n",
       "</div>"
      ],
      "text/plain": [
       "                          _id                     name  rating     cuisine\n",
       "0    5dbf00053c8fe0cd8642a28b   State Sandwich Company       5       Pizza\n",
       "1    5dbf00053c8fe0cd8642a297       Fun Tastey Company       5     Italian\n",
       "2    5dbf00053c8fe0cd8642a298     Kitchen Fish Company       5   Fast Food\n",
       "3    5dbf00053c8fe0cd8642a29c           Tastey Big Inc       5    American\n",
       "4    5dbf00063c8fe0cd8642a2a4           Fish Salty Inc       5     Mexican\n",
       "..                        ...                      ...     ...         ...\n",
       "105  5dbf026bc96ca4e63d11fd37             Fish Fun LLC       5  Vegetarian\n",
       "106  5dbf026bc96ca4e63d11fd38       Kitchen Tastey Inc       5     Mexican\n",
       "107  5dbf026bc96ca4e63d11fd39            City Fish LLC       5       Pizza\n",
       "108  5dbf026bc96ca4e63d11fd3d          Pizza State LLC       5       Pizza\n",
       "109  5dbf026bc96ca4e63d11fd3e  Animal City Corporation       5     Mexican\n",
       "\n",
       "[110 rows x 4 columns]"
      ]
     },
     "execution_count": 53,
     "metadata": {},
     "output_type": "execute_result"
    }
   ],
   "source": [
    "pd.DataFrame(list(five_star_reviews))"
   ]
  }
 ],
 "metadata": {
  "kernelspec": {
   "display_name": "Python 3",
   "language": "python",
   "name": "python3"
  },
  "language_info": {
   "codemirror_mode": {
    "name": "ipython",
    "version": 3
   },
   "file_extension": ".py",
   "mimetype": "text/x-python",
   "name": "python",
   "nbconvert_exporter": "python",
   "pygments_lexer": "ipython3",
   "version": "3.7.5"
  }
 },
 "nbformat": 4,
 "nbformat_minor": 4
}
