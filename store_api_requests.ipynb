{
 "cells": [
  {
   "cell_type": "markdown",
   "metadata": {},
   "source": [
    "# Storing API Requests in MongoDB\n",
    "What we want to do is to store the requests in such a way that we can make use of the objects and classes to analyse the league and results. Then when we are using these objects, we aren't calling the API again, but rather querying our database that will be filled using a script that makes sure that we don't exceed the API request limit defined by the account type.    \n",
    "\n",
    "This builds on the other notebooks that have written that show the basics of API calls and MongoDB. "
   ]
  },
  {
   "cell_type": "code",
   "execution_count": 48,
   "metadata": {},
   "outputs": [],
   "source": [
    "# Import packages \n",
    "import json\n",
    "import os\n",
    "import pandas as pd\n",
    "import pymongo\n",
    "import requests\n",
    "from pprint import pprint "
   ]
  },
  {
   "cell_type": "code",
   "execution_count": 7,
   "metadata": {},
   "outputs": [],
   "source": [
    "# Get the database details from the conda environment \n",
    "mongodb_password = os.environ.get(\"mongodb_password\")\n",
    "mongodb_user = os.environ.get(\"mongodb_user\")"
   ]
  },
  {
   "cell_type": "markdown",
   "metadata": {},
   "source": [
    "When we end up automating this, we are going to want to set a hard limit and control the requests, throttling our access to make sure we don't incure any additional costs for the tier. "
   ]
  },
  {
   "cell_type": "code",
   "execution_count": 8,
   "metadata": {},
   "outputs": [],
   "source": [
    "# Define max requests for this run \n",
    "api_max_requests = 10"
   ]
  },
  {
   "cell_type": "code",
   "execution_count": 9,
   "metadata": {},
   "outputs": [],
   "source": [
    "# Access the database client and define database that we want to store the results in\n",
    "client = pymongo.MongoClient(\"mongodb+srv://\" + mongodb_user + \":\" + mongodb_password + \"@basiccluster-6s0er.mongodb.net/test?retryWrites=true&w=majority\")\n",
    "db = client.football"
   ]
  },
  {
   "cell_type": "code",
   "execution_count": 10,
   "metadata": {},
   "outputs": [],
   "source": [
    "# Get the API details from the conda environment \n",
    "headers = {\n",
    "    'x-rapidapi-host': os.environ.get(\"api_host\"), \n",
    "    'x-rapidapi-key': os.environ.get(\"api_key\") \n",
    "    }"
   ]
  },
  {
   "cell_type": "markdown",
   "metadata": {},
   "source": [
    "I find that defining a simple `api_call` helper function here to be very useful so that we aren't continually writing the same code, and it makes the code easier to follow and read what the process is actually doing. "
   ]
  },
  {
   "cell_type": "code",
   "execution_count": 11,
   "metadata": {},
   "outputs": [],
   "source": [
    "def api_call(url):\n",
    "    response = requests.request(\"GET\", url, headers=headers)\n",
    "    return json.loads(response.text)"
   ]
  },
  {
   "cell_type": "markdown",
   "metadata": {},
   "source": [
    "For now, I'm going to focus on the Premier League. If required, we can extend and restructure."
   ]
  },
  {
   "cell_type": "code",
   "execution_count": 12,
   "metadata": {},
   "outputs": [],
   "source": [
    "# Define the base URL for the API requests\n",
    "base_url = 'https://api-football-v1.p.rapidapi.com/v2/'\n",
    "premier_league_id = '524'\n",
    "fixtures_url = base_url + 'fixtures/league/' + premier_league_id\n",
    "\n",
    "# Call the league fixture list and compare to current version\n",
    "fixtures = api_call(fixtures_url)"
   ]
  },
  {
   "cell_type": "code",
   "execution_count": 28,
   "metadata": {},
   "outputs": [
    {
     "name": "stdout",
     "output_type": "stream",
     "text": [
      "dict_keys(['api'])\n",
      "dict_keys(['results', 'fixtures'])\n",
      "380\n",
      "{'fixture_id': 157015, 'league_id': 524, 'league': {'name': 'Premier League', 'country': 'England', 'logo': 'https://media.api-football.com/leagues/2.png', 'flag': 'https://media.api-football.com/flags/gb.svg'}, 'event_date': '2019-08-09T19:00:00+00:00', 'event_timestamp': 1565377200, 'firstHalfStart': 1565377200, 'secondHalfStart': 1565380800, 'round': 'Regular Season - 1', 'status': 'Match Finished', 'statusShort': 'FT', 'elapsed': 90, 'venue': 'Anfield (Liverpool)', 'referee': 'Michael Oliver, England', 'homeTeam': {'team_id': 40, 'team_name': 'Liverpool', 'logo': 'https://media.api-football.com/teams/40.png'}, 'awayTeam': {'team_id': 71, 'team_name': 'Norwich', 'logo': 'https://media.api-football.com/teams/71.png'}, 'goalsHomeTeam': 4, 'goalsAwayTeam': 1, 'score': {'halftime': '4-0', 'fulltime': '4-1', 'extratime': None, 'penalty': None}}\n",
      "\n",
      "Total Fixtures: 380\n"
     ]
    }
   ],
   "source": [
    "print(fixtures.keys()) # Master level \n",
    "print(fixtures['api'].keys()) # Split into results and fixtures\n",
    "print(fixtures['api']['results']) # Note this is the just the size of the response\n",
    "print(fixtures['api']['fixtures'][0]) # Example fixture\n",
    "print(\"\\nTotal Fixtures: %s\" % len(fixtures['api']['fixtures'])) # Total fixtures "
   ]
  },
  {
   "cell_type": "markdown",
   "metadata": {},
   "source": [
    "We are therefore only interested in the fixtures list that we can using the syntax below. "
   ]
  },
  {
   "cell_type": "code",
   "execution_count": 29,
   "metadata": {},
   "outputs": [],
   "source": [
    "fixtures = fixtures['api']['fixtures']"
   ]
  },
  {
   "cell_type": "markdown",
   "metadata": {},
   "source": [
    "We are then going to insert all of these fixtures into the `fixtures` collection of our MongoDB database. "
   ]
  },
  {
   "cell_type": "code",
   "execution_count": 42,
   "metadata": {},
   "outputs": [],
   "source": [
    "db.fixtures.insert_many(fixtures); "
   ]
  },
  {
   "cell_type": "code",
   "execution_count": 50,
   "metadata": {},
   "outputs": [
    {
     "name": "stdout",
     "output_type": "stream",
     "text": [
      "{'_id': ObjectId('5de6cd1367605fece82bbb21'),\n",
      " 'awayTeam': {'logo': 'https://media.api-football.com/teams/71.png',\n",
      "              'team_id': 71,\n",
      "              'team_name': 'Norwich'},\n",
      " 'elapsed': 90,\n",
      " 'event_date': '2019-08-09T19:00:00+00:00',\n",
      " 'event_timestamp': 1565377200,\n",
      " 'firstHalfStart': 1565377200,\n",
      " 'fixture_id': 157015,\n",
      " 'goalsAwayTeam': 1,\n",
      " 'goalsHomeTeam': 4,\n",
      " 'homeTeam': {'logo': 'https://media.api-football.com/teams/40.png',\n",
      "              'team_id': 40,\n",
      "              'team_name': 'Liverpool'},\n",
      " 'league': {'country': 'England',\n",
      "            'flag': 'https://media.api-football.com/flags/gb.svg',\n",
      "            'logo': 'https://media.api-football.com/leagues/2.png',\n",
      "            'name': 'Premier League'},\n",
      " 'league_id': 524,\n",
      " 'referee': 'Michael Oliver, England',\n",
      " 'round': 'Regular Season - 1',\n",
      " 'score': {'extratime': None,\n",
      "           'fulltime': '4-1',\n",
      "           'halftime': '4-0',\n",
      "           'penalty': None},\n",
      " 'secondHalfStart': 1565380800,\n",
      " 'status': 'Match Finished',\n",
      " 'statusShort': 'FT',\n",
      " 'venue': 'Anfield (Liverpool)'}\n"
     ]
    }
   ],
   "source": [
    "# Take a quick look at one of the fixtures\n",
    "pprint(db.fixtures.find_one({}))"
   ]
  },
  {
   "cell_type": "markdown",
   "metadata": {},
   "source": [
    "## Filtering the fixtures\n",
    "\n",
    "We have inserted the 380 fixtures for the premier league for this season. Going forward we are going to want to call this again and then just update those that have changed i.e. games that have been played. "
   ]
  },
  {
   "cell_type": "code",
   "execution_count": 51,
   "metadata": {},
   "outputs": [],
   "source": [
    "completed_matches = list(db.fixtures.find({'status': 'Match Finished'}))"
   ]
  },
  {
   "cell_type": "code",
   "execution_count": 52,
   "metadata": {},
   "outputs": [
    {
     "data": {
      "text/plain": [
       "140"
      ]
     },
     "execution_count": 52,
     "metadata": {},
     "output_type": "execute_result"
    }
   ],
   "source": [
    "len(completed_matches)"
   ]
  },
  {
   "cell_type": "markdown",
   "metadata": {},
   "source": [
    "There have been 140 completed_matches so far this season according to our records.  \n",
    "\n",
    "These are the matches that we are going to want to further get the stats for and store against the fixture. "
   ]
  },
  {
   "cell_type": "code",
   "execution_count": 53,
   "metadata": {},
   "outputs": [],
   "source": [
    "postponed_matches = list(db.fixtures.find(\n",
    "    {\"$and\": [\n",
    "        {\"status\": {\n",
    "            \"$ne\": 'Match Finished'\n",
    "        }},\n",
    "        {\"status\": {\n",
    "            \"$ne\": 'Not Started'\n",
    "        }}\n",
    "    ]}\n",
    "))"
   ]
  },
  {
   "cell_type": "code",
   "execution_count": 55,
   "metadata": {},
   "outputs": [
    {
     "name": "stdout",
     "output_type": "stream",
     "text": [
      "[{'_id': ObjectId('5de6cd1367605fece82bbbad'),\n",
      "  'awayTeam': {'logo': 'https://media.api-football.com/teams/35.png',\n",
      "               'team_id': 35,\n",
      "               'team_name': 'Bournemouth'},\n",
      "  'elapsed': 60,\n",
      "  'event_date': '2019-12-03T19:30:00+00:00',\n",
      "  'event_timestamp': 1575401400,\n",
      "  'firstHalfStart': 1575401400,\n",
      "  'fixture_id': 157163,\n",
      "  'goalsAwayTeam': 0,\n",
      "  'goalsHomeTeam': 0,\n",
      "  'homeTeam': {'logo': 'https://media.api-football.com/teams/52.png',\n",
      "               'team_id': 52,\n",
      "               'team_name': 'Crystal Palace'},\n",
      "  'league': {'country': 'England',\n",
      "             'flag': 'https://media.api-football.com/flags/gb.svg',\n",
      "             'logo': 'https://media.api-football.com/leagues/2.png',\n",
      "             'name': 'Premier League'},\n",
      "  'league_id': 524,\n",
      "  'referee': 'Anthony Taylor, England',\n",
      "  'round': 'Regular Season - 15',\n",
      "  'score': {'extratime': None,\n",
      "            'fulltime': None,\n",
      "            'halftime': '0-0',\n",
      "            'penalty': None},\n",
      "  'secondHalfStart': 1575405000,\n",
      "  'status': 'Second Half',\n",
      "  'statusShort': '2H',\n",
      "  'venue': 'Selhurst Park'},\n",
      " {'_id': ObjectId('5de6cd1367605fece82bbbae'),\n",
      "  'awayTeam': {'logo': 'https://media.api-football.com/teams/50.png',\n",
      "               'team_id': 50,\n",
      "               'team_name': 'Manchester City'},\n",
      "  'elapsed': 34,\n",
      "  'event_date': '2019-12-03T20:15:00+00:00',\n",
      "  'event_timestamp': 1575404100,\n",
      "  'firstHalfStart': 1575404100,\n",
      "  'fixture_id': 157156,\n",
      "  'goalsAwayTeam': 1,\n",
      "  'goalsHomeTeam': 0,\n",
      "  'homeTeam': {'logo': 'https://media.api-football.com/teams/44.png',\n",
      "               'team_id': 44,\n",
      "               'team_name': 'Burnley'},\n",
      "  'league': {'country': 'England',\n",
      "             'flag': 'https://media.api-football.com/flags/gb.svg',\n",
      "             'logo': 'https://media.api-football.com/leagues/2.png',\n",
      "             'name': 'Premier League'},\n",
      "  'league_id': 524,\n",
      "  'referee': 'Jonathan Moss, England',\n",
      "  'round': 'Regular Season - 15',\n",
      "  'score': {'extratime': None,\n",
      "            'fulltime': None,\n",
      "            'halftime': '0-1',\n",
      "            'penalty': None},\n",
      "  'secondHalfStart': None,\n",
      "  'status': 'First Half',\n",
      "  'statusShort': '1H',\n",
      "  'venue': 'Turf Moor'},\n",
      " {'_id': ObjectId('5de6cd1367605fece82bbbcb'),\n",
      "  'awayTeam': {'logo': 'https://media.api-football.com/teams/40.png',\n",
      "               'team_id': 40,\n",
      "               'team_name': 'Liverpool'},\n",
      "  'elapsed': 0,\n",
      "  'event_date': '2019-12-20T00:00:00+00:00',\n",
      "  'event_timestamp': 1576800000,\n",
      "  'firstHalfStart': None,\n",
      "  'fixture_id': 157194,\n",
      "  'goalsAwayTeam': None,\n",
      "  'goalsHomeTeam': None,\n",
      "  'homeTeam': {'logo': 'https://media.api-football.com/teams/48.png',\n",
      "               'team_id': 48,\n",
      "               'team_name': 'West Ham'},\n",
      "  'league': {'country': 'England',\n",
      "             'flag': 'https://media.api-football.com/flags/gb.svg',\n",
      "             'logo': 'https://media.api-football.com/leagues/2.png',\n",
      "             'name': 'Premier League'},\n",
      "  'league_id': 524,\n",
      "  'referee': None,\n",
      "  'round': 'Regular Season - 18',\n",
      "  'score': {'extratime': None,\n",
      "            'fulltime': None,\n",
      "            'halftime': None,\n",
      "            'penalty': None},\n",
      "  'secondHalfStart': None,\n",
      "  'status': 'Match Postponed',\n",
      "  'statusShort': 'PST',\n",
      "  'venue': 'London Stadium (London)'}]\n"
     ]
    }
   ],
   "source": [
    "pprint(postponed_matches)"
   ]
  },
  {
   "cell_type": "markdown",
   "metadata": {},
   "source": [
    "You can see that when I called this API, there were 2 games in progress, and 1 game that came up from this search that has been postponed. "
   ]
  },
  {
   "cell_type": "code",
   "execution_count": 57,
   "metadata": {},
   "outputs": [],
   "source": [
    "incomplete_matches = list(db.fixtures.find({'status': {\n",
    "            \"$ne\": 'Match Finished'\n",
    "        }}, {'fixture_id'}))"
   ]
  },
  {
   "cell_type": "markdown",
   "metadata": {},
   "source": [
    "Get the fixture IDs for those matches that haven't been completed yet. "
   ]
  },
  {
   "cell_type": "code",
   "execution_count": 58,
   "metadata": {},
   "outputs": [],
   "source": [
    "incomplete_fixture_ids = [match['fixture_id'] for match in incomplete_matches]"
   ]
  },
  {
   "cell_type": "markdown",
   "metadata": {},
   "source": [
    "# Using indexes to maintain data integrity\n",
    "Going forward we are going to want to use what we have stored, and work out which fixtures need updating. Again, this is to do with limiting the requests that we are going to be doing to the account.  \n",
    "\n",
    "One particular thing that I want to avoid is duplicating the fixtures themselves. We want to be able to update the information for each fixture, but never to duplicate them. A unique index should prevent us from doing this by accident as it will fail the insert statement. "
   ]
  },
  {
   "cell_type": "code",
   "execution_count": 59,
   "metadata": {},
   "outputs": [
    {
     "data": {
      "text/plain": [
       "'fixture_id_pk'"
      ]
     },
     "execution_count": 59,
     "metadata": {},
     "output_type": "execute_result"
    }
   ],
   "source": [
    "db.fixtures.create_index('fixture_id', unique=True, name='fixture_id_pk', default_language='english')"
   ]
  },
  {
   "cell_type": "code",
   "execution_count": 68,
   "metadata": {},
   "outputs": [
    {
     "name": "stdout",
     "output_type": "stream",
     "text": [
      "First fixture id: 157015\n",
      "\n",
      "{'_id': ObjectId('5de6cd1367605fece82bbb21'),\n",
      " 'awayTeam': {'logo': 'https://media.api-football.com/teams/71.png',\n",
      "              'team_id': 71,\n",
      "              'team_name': 'Norwich'},\n",
      " 'elapsed': 90,\n",
      " 'event_date': '2019-08-09T19:00:00+00:00',\n",
      " 'event_timestamp': 1565377200,\n",
      " 'firstHalfStart': 1565377200,\n",
      " 'fixture_id': 157015,\n",
      " 'goalsAwayTeam': 1,\n",
      " 'goalsHomeTeam': 4,\n",
      " 'homeTeam': {'logo': 'https://media.api-football.com/teams/40.png',\n",
      "              'team_id': 40,\n",
      "              'team_name': 'Liverpool'},\n",
      " 'league': {'country': 'England',\n",
      "            'flag': 'https://media.api-football.com/flags/gb.svg',\n",
      "            'logo': 'https://media.api-football.com/leagues/2.png',\n",
      "            'name': 'Premier League'},\n",
      " 'league_id': 524,\n",
      " 'referee': 'Michael Oliver, England',\n",
      " 'round': 'Regular Season - 1',\n",
      " 'score': {'extratime': None,\n",
      "           'fulltime': '4-1',\n",
      "           'halftime': '4-0',\n",
      "           'penalty': None},\n",
      " 'secondHalfStart': 1565380800,\n",
      " 'status': 'Match Finished',\n",
      " 'statusShort': 'FT',\n",
      " 'venue': 'Anfield (Liverpool)'}\n"
     ]
    }
   ],
   "source": [
    "print(\"First fixture id: %d\\n\" % db.fixtures.find_one()['fixture_id'])\n",
    "test_fixture = db.fixtures.find_one({'fixture_id': 157015})\n",
    "pprint(test_fixture)"
   ]
  },
  {
   "cell_type": "code",
   "execution_count": 69,
   "metadata": {},
   "outputs": [
    {
     "ename": "DuplicateKeyError",
     "evalue": "E11000 duplicate key error collection: football.fixtures index: _id_ dup key: { : ObjectId('5de6cd1367605fece82bbb21') }",
     "output_type": "error",
     "traceback": [
      "\u001b[0;31m---------------------------------------------------------------------------\u001b[0m",
      "\u001b[0;31mDuplicateKeyError\u001b[0m                         Traceback (most recent call last)",
      "\u001b[0;32m<ipython-input-69-3277c8f643e7>\u001b[0m in \u001b[0;36m<module>\u001b[0;34m\u001b[0m\n\u001b[0;32m----> 1\u001b[0;31m \u001b[0mdb\u001b[0m\u001b[0;34m.\u001b[0m\u001b[0mfixtures\u001b[0m\u001b[0;34m.\u001b[0m\u001b[0minsert_one\u001b[0m\u001b[0;34m(\u001b[0m\u001b[0mtest_fixture\u001b[0m\u001b[0;34m)\u001b[0m\u001b[0;34m\u001b[0m\u001b[0;34m\u001b[0m\u001b[0m\n\u001b[0m",
      "\u001b[0;32m~/anaconda3/envs/environment/lib/python3.7/site-packages/pymongo/collection.py\u001b[0m in \u001b[0;36minsert_one\u001b[0;34m(self, document, bypass_document_validation, session)\u001b[0m\n\u001b[1;32m    696\u001b[0m                          \u001b[0mwrite_concern\u001b[0m\u001b[0;34m=\u001b[0m\u001b[0mwrite_concern\u001b[0m\u001b[0;34m,\u001b[0m\u001b[0;34m\u001b[0m\u001b[0;34m\u001b[0m\u001b[0m\n\u001b[1;32m    697\u001b[0m                          \u001b[0mbypass_doc_val\u001b[0m\u001b[0;34m=\u001b[0m\u001b[0mbypass_document_validation\u001b[0m\u001b[0;34m,\u001b[0m\u001b[0;34m\u001b[0m\u001b[0;34m\u001b[0m\u001b[0m\n\u001b[0;32m--> 698\u001b[0;31m                          session=session),\n\u001b[0m\u001b[1;32m    699\u001b[0m             write_concern.acknowledged)\n\u001b[1;32m    700\u001b[0m \u001b[0;34m\u001b[0m\u001b[0m\n",
      "\u001b[0;32m~/anaconda3/envs/environment/lib/python3.7/site-packages/pymongo/collection.py\u001b[0m in \u001b[0;36m_insert\u001b[0;34m(self, docs, ordered, check_keys, manipulate, write_concern, op_id, bypass_doc_val, session)\u001b[0m\n\u001b[1;32m    610\u001b[0m             return self._insert_one(\n\u001b[1;32m    611\u001b[0m                 \u001b[0mdocs\u001b[0m\u001b[0;34m,\u001b[0m \u001b[0mordered\u001b[0m\u001b[0;34m,\u001b[0m \u001b[0mcheck_keys\u001b[0m\u001b[0;34m,\u001b[0m \u001b[0mmanipulate\u001b[0m\u001b[0;34m,\u001b[0m \u001b[0mwrite_concern\u001b[0m\u001b[0;34m,\u001b[0m \u001b[0mop_id\u001b[0m\u001b[0;34m,\u001b[0m\u001b[0;34m\u001b[0m\u001b[0;34m\u001b[0m\u001b[0m\n\u001b[0;32m--> 612\u001b[0;31m                 bypass_doc_val, session)\n\u001b[0m\u001b[1;32m    613\u001b[0m \u001b[0;34m\u001b[0m\u001b[0m\n\u001b[1;32m    614\u001b[0m         \u001b[0mids\u001b[0m \u001b[0;34m=\u001b[0m \u001b[0;34m[\u001b[0m\u001b[0;34m]\u001b[0m\u001b[0;34m\u001b[0m\u001b[0;34m\u001b[0m\u001b[0m\n",
      "\u001b[0;32m~/anaconda3/envs/environment/lib/python3.7/site-packages/pymongo/collection.py\u001b[0m in \u001b[0;36m_insert_one\u001b[0;34m(self, doc, ordered, check_keys, manipulate, write_concern, op_id, bypass_doc_val, session)\u001b[0m\n\u001b[1;32m    598\u001b[0m \u001b[0;34m\u001b[0m\u001b[0m\n\u001b[1;32m    599\u001b[0m         self.__database.client._retryable_write(\n\u001b[0;32m--> 600\u001b[0;31m             acknowledged, _insert_command, session)\n\u001b[0m\u001b[1;32m    601\u001b[0m \u001b[0;34m\u001b[0m\u001b[0m\n\u001b[1;32m    602\u001b[0m         \u001b[0;32mif\u001b[0m \u001b[0;32mnot\u001b[0m \u001b[0misinstance\u001b[0m\u001b[0;34m(\u001b[0m\u001b[0mdoc\u001b[0m\u001b[0;34m,\u001b[0m \u001b[0mRawBSONDocument\u001b[0m\u001b[0;34m)\u001b[0m\u001b[0;34m:\u001b[0m\u001b[0;34m\u001b[0m\u001b[0;34m\u001b[0m\u001b[0m\n",
      "\u001b[0;32m~/anaconda3/envs/environment/lib/python3.7/site-packages/pymongo/mongo_client.py\u001b[0m in \u001b[0;36m_retryable_write\u001b[0;34m(self, retryable, func, session)\u001b[0m\n\u001b[1;32m   1490\u001b[0m         \u001b[0;34m\"\"\"Internal retryable write helper.\"\"\"\u001b[0m\u001b[0;34m\u001b[0m\u001b[0;34m\u001b[0m\u001b[0m\n\u001b[1;32m   1491\u001b[0m         \u001b[0;32mwith\u001b[0m \u001b[0mself\u001b[0m\u001b[0;34m.\u001b[0m\u001b[0m_tmp_session\u001b[0m\u001b[0;34m(\u001b[0m\u001b[0msession\u001b[0m\u001b[0;34m)\u001b[0m \u001b[0;32mas\u001b[0m \u001b[0ms\u001b[0m\u001b[0;34m:\u001b[0m\u001b[0;34m\u001b[0m\u001b[0;34m\u001b[0m\u001b[0m\n\u001b[0;32m-> 1492\u001b[0;31m             \u001b[0;32mreturn\u001b[0m \u001b[0mself\u001b[0m\u001b[0;34m.\u001b[0m\u001b[0m_retry_with_session\u001b[0m\u001b[0;34m(\u001b[0m\u001b[0mretryable\u001b[0m\u001b[0;34m,\u001b[0m \u001b[0mfunc\u001b[0m\u001b[0;34m,\u001b[0m \u001b[0ms\u001b[0m\u001b[0;34m,\u001b[0m \u001b[0;32mNone\u001b[0m\u001b[0;34m)\u001b[0m\u001b[0;34m\u001b[0m\u001b[0;34m\u001b[0m\u001b[0m\n\u001b[0m\u001b[1;32m   1493\u001b[0m \u001b[0;34m\u001b[0m\u001b[0m\n\u001b[1;32m   1494\u001b[0m     \u001b[0;32mdef\u001b[0m \u001b[0m_reset_server\u001b[0m\u001b[0;34m(\u001b[0m\u001b[0mself\u001b[0m\u001b[0;34m,\u001b[0m \u001b[0maddress\u001b[0m\u001b[0;34m)\u001b[0m\u001b[0;34m:\u001b[0m\u001b[0;34m\u001b[0m\u001b[0;34m\u001b[0m\u001b[0m\n",
      "\u001b[0;32m~/anaconda3/envs/environment/lib/python3.7/site-packages/pymongo/mongo_client.py\u001b[0m in \u001b[0;36m_retry_with_session\u001b[0;34m(self, retryable, func, session, bulk)\u001b[0m\n\u001b[1;32m   1383\u001b[0m                             \u001b[0;32mraise\u001b[0m \u001b[0mlast_error\u001b[0m\u001b[0;34m\u001b[0m\u001b[0;34m\u001b[0m\u001b[0m\n\u001b[1;32m   1384\u001b[0m                         \u001b[0mretryable\u001b[0m \u001b[0;34m=\u001b[0m \u001b[0;32mFalse\u001b[0m\u001b[0;34m\u001b[0m\u001b[0;34m\u001b[0m\u001b[0m\n\u001b[0;32m-> 1385\u001b[0;31m                     \u001b[0;32mreturn\u001b[0m \u001b[0mfunc\u001b[0m\u001b[0;34m(\u001b[0m\u001b[0msession\u001b[0m\u001b[0;34m,\u001b[0m \u001b[0msock_info\u001b[0m\u001b[0;34m,\u001b[0m \u001b[0mretryable\u001b[0m\u001b[0;34m)\u001b[0m\u001b[0;34m\u001b[0m\u001b[0;34m\u001b[0m\u001b[0m\n\u001b[0m\u001b[1;32m   1386\u001b[0m             \u001b[0;32mexcept\u001b[0m \u001b[0mServerSelectionTimeoutError\u001b[0m\u001b[0;34m:\u001b[0m\u001b[0;34m\u001b[0m\u001b[0;34m\u001b[0m\u001b[0m\n\u001b[1;32m   1387\u001b[0m                 \u001b[0;32mif\u001b[0m \u001b[0mis_retrying\u001b[0m\u001b[0;34m(\u001b[0m\u001b[0;34m)\u001b[0m\u001b[0;34m:\u001b[0m\u001b[0;34m\u001b[0m\u001b[0;34m\u001b[0m\u001b[0m\n",
      "\u001b[0;32m~/anaconda3/envs/environment/lib/python3.7/site-packages/pymongo/collection.py\u001b[0m in \u001b[0;36m_insert_command\u001b[0;34m(session, sock_info, retryable_write)\u001b[0m\n\u001b[1;32m    595\u001b[0m                 retryable_write=retryable_write)\n\u001b[1;32m    596\u001b[0m \u001b[0;34m\u001b[0m\u001b[0m\n\u001b[0;32m--> 597\u001b[0;31m             \u001b[0m_check_write_command_response\u001b[0m\u001b[0;34m(\u001b[0m\u001b[0mresult\u001b[0m\u001b[0;34m)\u001b[0m\u001b[0;34m\u001b[0m\u001b[0;34m\u001b[0m\u001b[0m\n\u001b[0m\u001b[1;32m    598\u001b[0m \u001b[0;34m\u001b[0m\u001b[0m\n\u001b[1;32m    599\u001b[0m         self.__database.client._retryable_write(\n",
      "\u001b[0;32m~/anaconda3/envs/environment/lib/python3.7/site-packages/pymongo/helpers.py\u001b[0m in \u001b[0;36m_check_write_command_response\u001b[0;34m(result)\u001b[0m\n\u001b[1;32m    219\u001b[0m     \u001b[0mwrite_errors\u001b[0m \u001b[0;34m=\u001b[0m \u001b[0mresult\u001b[0m\u001b[0;34m.\u001b[0m\u001b[0mget\u001b[0m\u001b[0;34m(\u001b[0m\u001b[0;34m\"writeErrors\"\u001b[0m\u001b[0;34m)\u001b[0m\u001b[0;34m\u001b[0m\u001b[0;34m\u001b[0m\u001b[0m\n\u001b[1;32m    220\u001b[0m     \u001b[0;32mif\u001b[0m \u001b[0mwrite_errors\u001b[0m\u001b[0;34m:\u001b[0m\u001b[0;34m\u001b[0m\u001b[0;34m\u001b[0m\u001b[0m\n\u001b[0;32m--> 221\u001b[0;31m         \u001b[0m_raise_last_write_error\u001b[0m\u001b[0;34m(\u001b[0m\u001b[0mwrite_errors\u001b[0m\u001b[0;34m)\u001b[0m\u001b[0;34m\u001b[0m\u001b[0;34m\u001b[0m\u001b[0m\n\u001b[0m\u001b[1;32m    222\u001b[0m \u001b[0;34m\u001b[0m\u001b[0m\n\u001b[1;32m    223\u001b[0m     \u001b[0merror\u001b[0m \u001b[0;34m=\u001b[0m \u001b[0mresult\u001b[0m\u001b[0;34m.\u001b[0m\u001b[0mget\u001b[0m\u001b[0;34m(\u001b[0m\u001b[0;34m\"writeConcernError\"\u001b[0m\u001b[0;34m)\u001b[0m\u001b[0;34m\u001b[0m\u001b[0;34m\u001b[0m\u001b[0m\n",
      "\u001b[0;32m~/anaconda3/envs/environment/lib/python3.7/site-packages/pymongo/helpers.py\u001b[0m in \u001b[0;36m_raise_last_write_error\u001b[0;34m(write_errors)\u001b[0m\n\u001b[1;32m    200\u001b[0m     \u001b[0merror\u001b[0m \u001b[0;34m=\u001b[0m \u001b[0mwrite_errors\u001b[0m\u001b[0;34m[\u001b[0m\u001b[0;34m-\u001b[0m\u001b[0;36m1\u001b[0m\u001b[0;34m]\u001b[0m\u001b[0;34m\u001b[0m\u001b[0;34m\u001b[0m\u001b[0m\n\u001b[1;32m    201\u001b[0m     \u001b[0;32mif\u001b[0m \u001b[0merror\u001b[0m\u001b[0;34m.\u001b[0m\u001b[0mget\u001b[0m\u001b[0;34m(\u001b[0m\u001b[0;34m\"code\"\u001b[0m\u001b[0;34m)\u001b[0m \u001b[0;34m==\u001b[0m \u001b[0;36m11000\u001b[0m\u001b[0;34m:\u001b[0m\u001b[0;34m\u001b[0m\u001b[0;34m\u001b[0m\u001b[0m\n\u001b[0;32m--> 202\u001b[0;31m         \u001b[0;32mraise\u001b[0m \u001b[0mDuplicateKeyError\u001b[0m\u001b[0;34m(\u001b[0m\u001b[0merror\u001b[0m\u001b[0;34m.\u001b[0m\u001b[0mget\u001b[0m\u001b[0;34m(\u001b[0m\u001b[0;34m\"errmsg\"\u001b[0m\u001b[0;34m)\u001b[0m\u001b[0;34m,\u001b[0m \u001b[0;36m11000\u001b[0m\u001b[0;34m,\u001b[0m \u001b[0merror\u001b[0m\u001b[0;34m)\u001b[0m\u001b[0;34m\u001b[0m\u001b[0;34m\u001b[0m\u001b[0m\n\u001b[0m\u001b[1;32m    203\u001b[0m     \u001b[0;32mraise\u001b[0m \u001b[0mWriteError\u001b[0m\u001b[0;34m(\u001b[0m\u001b[0merror\u001b[0m\u001b[0;34m.\u001b[0m\u001b[0mget\u001b[0m\u001b[0;34m(\u001b[0m\u001b[0;34m\"errmsg\"\u001b[0m\u001b[0;34m)\u001b[0m\u001b[0;34m,\u001b[0m \u001b[0merror\u001b[0m\u001b[0;34m.\u001b[0m\u001b[0mget\u001b[0m\u001b[0;34m(\u001b[0m\u001b[0;34m\"code\"\u001b[0m\u001b[0;34m)\u001b[0m\u001b[0;34m,\u001b[0m \u001b[0merror\u001b[0m\u001b[0;34m)\u001b[0m\u001b[0;34m\u001b[0m\u001b[0;34m\u001b[0m\u001b[0m\n\u001b[1;32m    204\u001b[0m \u001b[0;34m\u001b[0m\u001b[0m\n",
      "\u001b[0;31mDuplicateKeyError\u001b[0m: E11000 duplicate key error collection: football.fixtures index: _id_ dup key: { : ObjectId('5de6cd1367605fece82bbb21') }"
     ]
    }
   ],
   "source": [
    "db.fixtures.insert_one(test_fixture)"
   ]
  },
  {
   "cell_type": "code",
   "execution_count": 74,
   "metadata": {},
   "outputs": [
    {
     "name": "stdout",
     "output_type": "stream",
     "text": [
      "Total fixtures in db: 380\n"
     ]
    }
   ],
   "source": [
    "print(\"Total fixtures in db: %d\" % len(list(db.fixtures.find({}))))"
   ]
  },
  {
   "cell_type": "markdown",
   "metadata": {},
   "source": [
    "We can see that we haven't inserted that duplicate fixture as the index failed the insert due to a `DuplicateKeyError`. "
   ]
  },
  {
   "cell_type": "markdown",
   "metadata": {},
   "source": [
    "# Identifying records to update \n",
    "We are going to want to update the fixtures that we have with the post-match [statistics](https://www.api-football.com/documentation#fixtures-statistics) when they become available.  \n",
    "\n",
    "At the moment the `fixtures` actually represent final results, and upcoming fixtures. We can identify which fixtures we don't have statistics for by using the `'$exists'` syntax. "
   ]
  },
  {
   "cell_type": "code",
   "execution_count": 80,
   "metadata": {},
   "outputs": [
    {
     "name": "stdout",
     "output_type": "stream",
     "text": [
      "{'_id': ObjectId('5de6cd1367605fece82bbb21'),\n",
      " 'awayTeam': {'logo': 'https://media.api-football.com/teams/71.png',\n",
      "              'team_id': 71,\n",
      "              'team_name': 'Norwich'},\n",
      " 'elapsed': 90,\n",
      " 'event_date': '2019-08-09T19:00:00+00:00',\n",
      " 'event_timestamp': 1565377200,\n",
      " 'firstHalfStart': 1565377200,\n",
      " 'fixture_id': 157015,\n",
      " 'goalsAwayTeam': 1,\n",
      " 'goalsHomeTeam': 4,\n",
      " 'homeTeam': {'logo': 'https://media.api-football.com/teams/40.png',\n",
      "              'team_id': 40,\n",
      "              'team_name': 'Liverpool'},\n",
      " 'league': {'country': 'England',\n",
      "            'flag': 'https://media.api-football.com/flags/gb.svg',\n",
      "            'logo': 'https://media.api-football.com/leagues/2.png',\n",
      "            'name': 'Premier League'},\n",
      " 'league_id': 524,\n",
      " 'referee': 'Michael Oliver, England',\n",
      " 'round': 'Regular Season - 1',\n",
      " 'score': {'extratime': None,\n",
      "           'fulltime': '4-1',\n",
      "           'halftime': '4-0',\n",
      "           'penalty': None},\n",
      " 'secondHalfStart': 1565380800,\n",
      " 'status': 'Match Finished',\n",
      " 'statusShort': 'FT',\n",
      " 'venue': 'Anfield (Liverpool)'}\n",
      "dict_keys(['_id', 'fixture_id', 'league_id', 'league', 'event_date', 'event_timestamp', 'firstHalfStart', 'secondHalfStart', 'round', 'status', 'statusShort', 'elapsed', 'venue', 'referee', 'homeTeam', 'awayTeam', 'goalsHomeTeam', 'goalsAwayTeam', 'score'])\n"
     ]
    }
   ],
   "source": [
    "fixture_without_stats = db.fixtures.find({'statistics': { '$exists' : False }})[0]\n",
    "pprint(fixture_without_stats)\n",
    "print(fixture_without_stats.keys())"
   ]
  },
  {
   "cell_type": "code",
   "execution_count": 116,
   "metadata": {},
   "outputs": [],
   "source": [
    "fixtures_to_complete = db.fixtures.find({'statistics': { '$exists' : False }, \n",
    "                 'statusShort':'FT'})"
   ]
  },
  {
   "cell_type": "code",
   "execution_count": 117,
   "metadata": {},
   "outputs": [
    {
     "data": {
      "text/plain": [
       "(140, 19)"
      ]
     },
     "execution_count": 117,
     "metadata": {},
     "output_type": "execute_result"
    }
   ],
   "source": [
    "pd.DataFrame(fixtures_to_complete).shape"
   ]
  },
  {
   "cell_type": "markdown",
   "metadata": {},
   "source": [
    "This is the list of completed fixtures that we don't have the statistics for. We are best off writing a python script that will handle filling the detail statistics in for us, with a hard limit of how many requests we are willing to do for that run. "
   ]
  }
 ],
 "metadata": {
  "kernelspec": {
   "display_name": "Python 3",
   "language": "python",
   "name": "python3"
  },
  "language_info": {
   "codemirror_mode": {
    "name": "ipython",
    "version": 3
   },
   "file_extension": ".py",
   "mimetype": "text/x-python",
   "name": "python",
   "nbconvert_exporter": "python",
   "pygments_lexer": "ipython3",
   "version": "3.7.5"
  }
 },
 "nbformat": 4,
 "nbformat_minor": 4
}
