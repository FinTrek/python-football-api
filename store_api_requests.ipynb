{
 "cells": [
  {
   "cell_type": "markdown",
   "metadata": {},
   "source": [
    "# Storing API Requests in MongoDB\n",
    "What we want to do is to store the requests in such a way that we can make use of the objects and classes to analyse the league and results. Then when we are using these objects, we aren't calling the API again, but rather querying our database that will be filled using a script that makes sure that we don't exceed the API request limit defined by the account type.    \n",
    "\n",
    "This builds on the other notebooks that have written that show the basics of API calls and MongoDB. "
   ]
  },
  {
   "cell_type": "code",
   "execution_count": 127,
   "metadata": {},
   "outputs": [],
   "source": [
    "# Import packages \n",
    "import json\n",
    "import os\n",
    "import pandas as pd\n",
    "import pymongo\n",
    "import requests\n",
    "from pprint import pprint "
   ]
  },
  {
   "cell_type": "code",
   "execution_count": 128,
   "metadata": {},
   "outputs": [],
   "source": [
    "# Get the database details from the conda environment \n",
    "mongodb_password = os.environ.get(\"mongodb_password\")\n",
    "mongodb_user = os.environ.get(\"mongodb_user\")"
   ]
  },
  {
   "cell_type": "markdown",
   "metadata": {},
   "source": [
    "When we end up automating this, we are going to want to set a hard limit and control the requests, throttling our access to make sure we don't incure any additional costs for the tier. "
   ]
  },
  {
   "cell_type": "code",
   "execution_count": 129,
   "metadata": {},
   "outputs": [],
   "source": [
    "# Define max requests for this run \n",
    "api_max_requests = 10"
   ]
  },
  {
   "cell_type": "code",
   "execution_count": 130,
   "metadata": {},
   "outputs": [],
   "source": [
    "# Access the database client and define database that we want to store the results in\n",
    "client = pymongo.MongoClient(\"mongodb+srv://\" + mongodb_user + \":\" + mongodb_password + \"@basiccluster-6s0er.mongodb.net/test?retryWrites=true&w=majority\")\n",
    "db = client.football"
   ]
  },
  {
   "cell_type": "code",
   "execution_count": 131,
   "metadata": {},
   "outputs": [],
   "source": [
    "# Get the API details from the conda environment \n",
    "headers = {\n",
    "    'x-rapidapi-host': os.environ.get(\"api_host\"), \n",
    "    'x-rapidapi-key': os.environ.get(\"api_key\") \n",
    "    }"
   ]
  },
  {
   "cell_type": "markdown",
   "metadata": {},
   "source": [
    "I find that defining a simple `api_call` helper function here to be very useful so that we aren't continually writing the same code, and it makes the code easier to follow and read what the process is actually doing. "
   ]
  },
  {
   "cell_type": "code",
   "execution_count": 132,
   "metadata": {},
   "outputs": [],
   "source": [
    "def api_call(url):\n",
    "    response = requests.request(\"GET\", url, headers=headers)\n",
    "    return json.loads(response.text)"
   ]
  },
  {
   "cell_type": "markdown",
   "metadata": {},
   "source": [
    "For now, I'm going to focus on the Premier League. If required, we can extend and restructure."
   ]
  },
  {
   "cell_type": "code",
   "execution_count": 12,
   "metadata": {},
   "outputs": [],
   "source": [
    "# Define the base URL for the API requests\n",
    "base_url = 'https://api-football-v1.p.rapidapi.com/v2/'\n",
    "premier_league_id = '524'\n",
    "fixtures_url = base_url + 'fixtures/league/' + premier_league_id\n",
    "\n",
    "# Call the league fixture list and compare to current version\n",
    "fixtures = api_call(fixtures_url)"
   ]
  },
  {
   "cell_type": "code",
   "execution_count": 28,
   "metadata": {},
   "outputs": [
    {
     "name": "stdout",
     "output_type": "stream",
     "text": [
      "dict_keys(['api'])\n",
      "dict_keys(['results', 'fixtures'])\n",
      "380\n",
      "{'fixture_id': 157015, 'league_id': 524, 'league': {'name': 'Premier League', 'country': 'England', 'logo': 'https://media.api-football.com/leagues/2.png', 'flag': 'https://media.api-football.com/flags/gb.svg'}, 'event_date': '2019-08-09T19:00:00+00:00', 'event_timestamp': 1565377200, 'firstHalfStart': 1565377200, 'secondHalfStart': 1565380800, 'round': 'Regular Season - 1', 'status': 'Match Finished', 'statusShort': 'FT', 'elapsed': 90, 'venue': 'Anfield (Liverpool)', 'referee': 'Michael Oliver, England', 'homeTeam': {'team_id': 40, 'team_name': 'Liverpool', 'logo': 'https://media.api-football.com/teams/40.png'}, 'awayTeam': {'team_id': 71, 'team_name': 'Norwich', 'logo': 'https://media.api-football.com/teams/71.png'}, 'goalsHomeTeam': 4, 'goalsAwayTeam': 1, 'score': {'halftime': '4-0', 'fulltime': '4-1', 'extratime': None, 'penalty': None}}\n",
      "\n",
      "Total Fixtures: 380\n"
     ]
    }
   ],
   "source": [
    "print(fixtures.keys()) # Master level \n",
    "print(fixtures['api'].keys()) # Split into results and fixtures\n",
    "print(fixtures['api']['results']) # Note this is the just the size of the response\n",
    "print(fixtures['api']['fixtures'][0]) # Example fixture\n",
    "print(\"\\nTotal Fixtures: %s\" % len(fixtures['api']['fixtures'])) # Total fixtures "
   ]
  },
  {
   "cell_type": "markdown",
   "metadata": {},
   "source": [
    "We are therefore only interested in the fixtures list that we can using the syntax below. "
   ]
  },
  {
   "cell_type": "code",
   "execution_count": 29,
   "metadata": {},
   "outputs": [],
   "source": [
    "fixtures = fixtures['api']['fixtures']"
   ]
  },
  {
   "cell_type": "markdown",
   "metadata": {},
   "source": [
    "We are then going to insert all of these fixtures into the `fixtures` collection of our MongoDB database. "
   ]
  },
  {
   "cell_type": "code",
   "execution_count": 42,
   "metadata": {},
   "outputs": [],
   "source": [
    "db.fixtures.insert_many(fixtures); "
   ]
  },
  {
   "cell_type": "code",
   "execution_count": 50,
   "metadata": {},
   "outputs": [
    {
     "name": "stdout",
     "output_type": "stream",
     "text": [
      "{'_id': ObjectId('5de6cd1367605fece82bbb21'),\n",
      " 'awayTeam': {'logo': 'https://media.api-football.com/teams/71.png',\n",
      "              'team_id': 71,\n",
      "              'team_name': 'Norwich'},\n",
      " 'elapsed': 90,\n",
      " 'event_date': '2019-08-09T19:00:00+00:00',\n",
      " 'event_timestamp': 1565377200,\n",
      " 'firstHalfStart': 1565377200,\n",
      " 'fixture_id': 157015,\n",
      " 'goalsAwayTeam': 1,\n",
      " 'goalsHomeTeam': 4,\n",
      " 'homeTeam': {'logo': 'https://media.api-football.com/teams/40.png',\n",
      "              'team_id': 40,\n",
      "              'team_name': 'Liverpool'},\n",
      " 'league': {'country': 'England',\n",
      "            'flag': 'https://media.api-football.com/flags/gb.svg',\n",
      "            'logo': 'https://media.api-football.com/leagues/2.png',\n",
      "            'name': 'Premier League'},\n",
      " 'league_id': 524,\n",
      " 'referee': 'Michael Oliver, England',\n",
      " 'round': 'Regular Season - 1',\n",
      " 'score': {'extratime': None,\n",
      "           'fulltime': '4-1',\n",
      "           'halftime': '4-0',\n",
      "           'penalty': None},\n",
      " 'secondHalfStart': 1565380800,\n",
      " 'status': 'Match Finished',\n",
      " 'statusShort': 'FT',\n",
      " 'venue': 'Anfield (Liverpool)'}\n"
     ]
    }
   ],
   "source": [
    "# Take a quick look at one of the fixtures\n",
    "pprint(db.fixtures.find_one({}))"
   ]
  },
  {
   "cell_type": "markdown",
   "metadata": {},
   "source": [
    "## Filtering the fixtures\n",
    "\n",
    "We have inserted the 380 fixtures for the premier league for this season. Going forward we are going to want to call this again and then just update those that have changed i.e. games that have been played. "
   ]
  },
  {
   "cell_type": "code",
   "execution_count": 51,
   "metadata": {},
   "outputs": [],
   "source": [
    "completed_matches = list(db.fixtures.find({'status': 'Match Finished'}))"
   ]
  },
  {
   "cell_type": "code",
   "execution_count": 52,
   "metadata": {},
   "outputs": [
    {
     "data": {
      "text/plain": [
       "140"
      ]
     },
     "execution_count": 52,
     "metadata": {},
     "output_type": "execute_result"
    }
   ],
   "source": [
    "len(completed_matches)"
   ]
  },
  {
   "cell_type": "markdown",
   "metadata": {},
   "source": [
    "There have been 140 completed_matches so far this season according to our records.  \n",
    "\n",
    "These are the matches that we are going to want to further get the stats for and store against the fixture. "
   ]
  },
  {
   "cell_type": "code",
   "execution_count": 53,
   "metadata": {},
   "outputs": [],
   "source": [
    "postponed_matches = list(db.fixtures.find(\n",
    "    {\"$and\": [\n",
    "        {\"status\": {\n",
    "            \"$ne\": 'Match Finished'\n",
    "        }},\n",
    "        {\"status\": {\n",
    "            \"$ne\": 'Not Started'\n",
    "        }}\n",
    "    ]}\n",
    "))"
   ]
  },
  {
   "cell_type": "code",
   "execution_count": 55,
   "metadata": {},
   "outputs": [
    {
     "name": "stdout",
     "output_type": "stream",
     "text": [
      "[{'_id': ObjectId('5de6cd1367605fece82bbbad'),\n",
      "  'awayTeam': {'logo': 'https://media.api-football.com/teams/35.png',\n",
      "               'team_id': 35,\n",
      "               'team_name': 'Bournemouth'},\n",
      "  'elapsed': 60,\n",
      "  'event_date': '2019-12-03T19:30:00+00:00',\n",
      "  'event_timestamp': 1575401400,\n",
      "  'firstHalfStart': 1575401400,\n",
      "  'fixture_id': 157163,\n",
      "  'goalsAwayTeam': 0,\n",
      "  'goalsHomeTeam': 0,\n",
      "  'homeTeam': {'logo': 'https://media.api-football.com/teams/52.png',\n",
      "               'team_id': 52,\n",
      "               'team_name': 'Crystal Palace'},\n",
      "  'league': {'country': 'England',\n",
      "             'flag': 'https://media.api-football.com/flags/gb.svg',\n",
      "             'logo': 'https://media.api-football.com/leagues/2.png',\n",
      "             'name': 'Premier League'},\n",
      "  'league_id': 524,\n",
      "  'referee': 'Anthony Taylor, England',\n",
      "  'round': 'Regular Season - 15',\n",
      "  'score': {'extratime': None,\n",
      "            'fulltime': None,\n",
      "            'halftime': '0-0',\n",
      "            'penalty': None},\n",
      "  'secondHalfStart': 1575405000,\n",
      "  'status': 'Second Half',\n",
      "  'statusShort': '2H',\n",
      "  'venue': 'Selhurst Park'},\n",
      " {'_id': ObjectId('5de6cd1367605fece82bbbae'),\n",
      "  'awayTeam': {'logo': 'https://media.api-football.com/teams/50.png',\n",
      "               'team_id': 50,\n",
      "               'team_name': 'Manchester City'},\n",
      "  'elapsed': 34,\n",
      "  'event_date': '2019-12-03T20:15:00+00:00',\n",
      "  'event_timestamp': 1575404100,\n",
      "  'firstHalfStart': 1575404100,\n",
      "  'fixture_id': 157156,\n",
      "  'goalsAwayTeam': 1,\n",
      "  'goalsHomeTeam': 0,\n",
      "  'homeTeam': {'logo': 'https://media.api-football.com/teams/44.png',\n",
      "               'team_id': 44,\n",
      "               'team_name': 'Burnley'},\n",
      "  'league': {'country': 'England',\n",
      "             'flag': 'https://media.api-football.com/flags/gb.svg',\n",
      "             'logo': 'https://media.api-football.com/leagues/2.png',\n",
      "             'name': 'Premier League'},\n",
      "  'league_id': 524,\n",
      "  'referee': 'Jonathan Moss, England',\n",
      "  'round': 'Regular Season - 15',\n",
      "  'score': {'extratime': None,\n",
      "            'fulltime': None,\n",
      "            'halftime': '0-1',\n",
      "            'penalty': None},\n",
      "  'secondHalfStart': None,\n",
      "  'status': 'First Half',\n",
      "  'statusShort': '1H',\n",
      "  'venue': 'Turf Moor'},\n",
      " {'_id': ObjectId('5de6cd1367605fece82bbbcb'),\n",
      "  'awayTeam': {'logo': 'https://media.api-football.com/teams/40.png',\n",
      "               'team_id': 40,\n",
      "               'team_name': 'Liverpool'},\n",
      "  'elapsed': 0,\n",
      "  'event_date': '2019-12-20T00:00:00+00:00',\n",
      "  'event_timestamp': 1576800000,\n",
      "  'firstHalfStart': None,\n",
      "  'fixture_id': 157194,\n",
      "  'goalsAwayTeam': None,\n",
      "  'goalsHomeTeam': None,\n",
      "  'homeTeam': {'logo': 'https://media.api-football.com/teams/48.png',\n",
      "               'team_id': 48,\n",
      "               'team_name': 'West Ham'},\n",
      "  'league': {'country': 'England',\n",
      "             'flag': 'https://media.api-football.com/flags/gb.svg',\n",
      "             'logo': 'https://media.api-football.com/leagues/2.png',\n",
      "             'name': 'Premier League'},\n",
      "  'league_id': 524,\n",
      "  'referee': None,\n",
      "  'round': 'Regular Season - 18',\n",
      "  'score': {'extratime': None,\n",
      "            'fulltime': None,\n",
      "            'halftime': None,\n",
      "            'penalty': None},\n",
      "  'secondHalfStart': None,\n",
      "  'status': 'Match Postponed',\n",
      "  'statusShort': 'PST',\n",
      "  'venue': 'London Stadium (London)'}]\n"
     ]
    }
   ],
   "source": [
    "pprint(postponed_matches)"
   ]
  },
  {
   "cell_type": "markdown",
   "metadata": {},
   "source": [
    "You can see that when I called this API, there were 2 games in progress, and 1 game that came up from this search that has been postponed. "
   ]
  },
  {
   "cell_type": "code",
   "execution_count": 57,
   "metadata": {},
   "outputs": [],
   "source": [
    "incomplete_matches = list(db.fixtures.find({'status': {\n",
    "            \"$ne\": 'Match Finished'\n",
    "        }}, {'fixture_id'}))"
   ]
  },
  {
   "cell_type": "markdown",
   "metadata": {},
   "source": [
    "Get the fixture IDs for those matches that haven't been completed yet. "
   ]
  },
  {
   "cell_type": "code",
   "execution_count": 58,
   "metadata": {},
   "outputs": [],
   "source": [
    "incomplete_fixture_ids = [match['fixture_id'] for match in incomplete_matches]"
   ]
  },
  {
   "cell_type": "markdown",
   "metadata": {},
   "source": [
    "# Using indexes to maintain data integrity\n",
    "Going forward we are going to want to use what we have stored, and work out which fixtures need updating. Again, this is to do with limiting the requests that we are going to be doing to the account.  \n",
    "\n",
    "One particular thing that I want to avoid is duplicating the fixtures themselves. We want to be able to update the information for each fixture, but never to duplicate them. A unique index should prevent us from doing this by accident as it will fail the insert statement. "
   ]
  },
  {
   "cell_type": "code",
   "execution_count": 59,
   "metadata": {},
   "outputs": [
    {
     "data": {
      "text/plain": [
       "'fixture_id_pk'"
      ]
     },
     "execution_count": 59,
     "metadata": {},
     "output_type": "execute_result"
    }
   ],
   "source": [
    "db.fixtures.create_index('fixture_id', unique=True, name='fixture_id_pk', default_language='english')"
   ]
  },
  {
   "cell_type": "code",
   "execution_count": 68,
   "metadata": {},
   "outputs": [
    {
     "name": "stdout",
     "output_type": "stream",
     "text": [
      "First fixture id: 157015\n",
      "\n",
      "{'_id': ObjectId('5de6cd1367605fece82bbb21'),\n",
      " 'awayTeam': {'logo': 'https://media.api-football.com/teams/71.png',\n",
      "              'team_id': 71,\n",
      "              'team_name': 'Norwich'},\n",
      " 'elapsed': 90,\n",
      " 'event_date': '2019-08-09T19:00:00+00:00',\n",
      " 'event_timestamp': 1565377200,\n",
      " 'firstHalfStart': 1565377200,\n",
      " 'fixture_id': 157015,\n",
      " 'goalsAwayTeam': 1,\n",
      " 'goalsHomeTeam': 4,\n",
      " 'homeTeam': {'logo': 'https://media.api-football.com/teams/40.png',\n",
      "              'team_id': 40,\n",
      "              'team_name': 'Liverpool'},\n",
      " 'league': {'country': 'England',\n",
      "            'flag': 'https://media.api-football.com/flags/gb.svg',\n",
      "            'logo': 'https://media.api-football.com/leagues/2.png',\n",
      "            'name': 'Premier League'},\n",
      " 'league_id': 524,\n",
      " 'referee': 'Michael Oliver, England',\n",
      " 'round': 'Regular Season - 1',\n",
      " 'score': {'extratime': None,\n",
      "           'fulltime': '4-1',\n",
      "           'halftime': '4-0',\n",
      "           'penalty': None},\n",
      " 'secondHalfStart': 1565380800,\n",
      " 'status': 'Match Finished',\n",
      " 'statusShort': 'FT',\n",
      " 'venue': 'Anfield (Liverpool)'}\n"
     ]
    }
   ],
   "source": [
    "print(\"First fixture id: %d\\n\" % db.fixtures.find_one()['fixture_id'])\n",
    "test_fixture = db.fixtures.find_one({'fixture_id': 157015})\n",
    "pprint(test_fixture)"
   ]
  },
  {
   "cell_type": "code",
   "execution_count": 69,
   "metadata": {},
   "outputs": [
    {
     "ename": "DuplicateKeyError",
     "evalue": "E11000 duplicate key error collection: football.fixtures index: _id_ dup key: { : ObjectId('5de6cd1367605fece82bbb21') }",
     "output_type": "error",
     "traceback": [
      "\u001b[0;31m---------------------------------------------------------------------------\u001b[0m",
      "\u001b[0;31mDuplicateKeyError\u001b[0m                         Traceback (most recent call last)",
      "\u001b[0;32m<ipython-input-69-3277c8f643e7>\u001b[0m in \u001b[0;36m<module>\u001b[0;34m\u001b[0m\n\u001b[0;32m----> 1\u001b[0;31m \u001b[0mdb\u001b[0m\u001b[0;34m.\u001b[0m\u001b[0mfixtures\u001b[0m\u001b[0;34m.\u001b[0m\u001b[0minsert_one\u001b[0m\u001b[0;34m(\u001b[0m\u001b[0mtest_fixture\u001b[0m\u001b[0;34m)\u001b[0m\u001b[0;34m\u001b[0m\u001b[0;34m\u001b[0m\u001b[0m\n\u001b[0m",
      "\u001b[0;32m~/anaconda3/envs/environment/lib/python3.7/site-packages/pymongo/collection.py\u001b[0m in \u001b[0;36minsert_one\u001b[0;34m(self, document, bypass_document_validation, session)\u001b[0m\n\u001b[1;32m    696\u001b[0m                          \u001b[0mwrite_concern\u001b[0m\u001b[0;34m=\u001b[0m\u001b[0mwrite_concern\u001b[0m\u001b[0;34m,\u001b[0m\u001b[0;34m\u001b[0m\u001b[0;34m\u001b[0m\u001b[0m\n\u001b[1;32m    697\u001b[0m                          \u001b[0mbypass_doc_val\u001b[0m\u001b[0;34m=\u001b[0m\u001b[0mbypass_document_validation\u001b[0m\u001b[0;34m,\u001b[0m\u001b[0;34m\u001b[0m\u001b[0;34m\u001b[0m\u001b[0m\n\u001b[0;32m--> 698\u001b[0;31m                          session=session),\n\u001b[0m\u001b[1;32m    699\u001b[0m             write_concern.acknowledged)\n\u001b[1;32m    700\u001b[0m \u001b[0;34m\u001b[0m\u001b[0m\n",
      "\u001b[0;32m~/anaconda3/envs/environment/lib/python3.7/site-packages/pymongo/collection.py\u001b[0m in \u001b[0;36m_insert\u001b[0;34m(self, docs, ordered, check_keys, manipulate, write_concern, op_id, bypass_doc_val, session)\u001b[0m\n\u001b[1;32m    610\u001b[0m             return self._insert_one(\n\u001b[1;32m    611\u001b[0m                 \u001b[0mdocs\u001b[0m\u001b[0;34m,\u001b[0m \u001b[0mordered\u001b[0m\u001b[0;34m,\u001b[0m \u001b[0mcheck_keys\u001b[0m\u001b[0;34m,\u001b[0m \u001b[0mmanipulate\u001b[0m\u001b[0;34m,\u001b[0m \u001b[0mwrite_concern\u001b[0m\u001b[0;34m,\u001b[0m \u001b[0mop_id\u001b[0m\u001b[0;34m,\u001b[0m\u001b[0;34m\u001b[0m\u001b[0;34m\u001b[0m\u001b[0m\n\u001b[0;32m--> 612\u001b[0;31m                 bypass_doc_val, session)\n\u001b[0m\u001b[1;32m    613\u001b[0m \u001b[0;34m\u001b[0m\u001b[0m\n\u001b[1;32m    614\u001b[0m         \u001b[0mids\u001b[0m \u001b[0;34m=\u001b[0m \u001b[0;34m[\u001b[0m\u001b[0;34m]\u001b[0m\u001b[0;34m\u001b[0m\u001b[0;34m\u001b[0m\u001b[0m\n",
      "\u001b[0;32m~/anaconda3/envs/environment/lib/python3.7/site-packages/pymongo/collection.py\u001b[0m in \u001b[0;36m_insert_one\u001b[0;34m(self, doc, ordered, check_keys, manipulate, write_concern, op_id, bypass_doc_val, session)\u001b[0m\n\u001b[1;32m    598\u001b[0m \u001b[0;34m\u001b[0m\u001b[0m\n\u001b[1;32m    599\u001b[0m         self.__database.client._retryable_write(\n\u001b[0;32m--> 600\u001b[0;31m             acknowledged, _insert_command, session)\n\u001b[0m\u001b[1;32m    601\u001b[0m \u001b[0;34m\u001b[0m\u001b[0m\n\u001b[1;32m    602\u001b[0m         \u001b[0;32mif\u001b[0m \u001b[0;32mnot\u001b[0m \u001b[0misinstance\u001b[0m\u001b[0;34m(\u001b[0m\u001b[0mdoc\u001b[0m\u001b[0;34m,\u001b[0m \u001b[0mRawBSONDocument\u001b[0m\u001b[0;34m)\u001b[0m\u001b[0;34m:\u001b[0m\u001b[0;34m\u001b[0m\u001b[0;34m\u001b[0m\u001b[0m\n",
      "\u001b[0;32m~/anaconda3/envs/environment/lib/python3.7/site-packages/pymongo/mongo_client.py\u001b[0m in \u001b[0;36m_retryable_write\u001b[0;34m(self, retryable, func, session)\u001b[0m\n\u001b[1;32m   1490\u001b[0m         \u001b[0;34m\"\"\"Internal retryable write helper.\"\"\"\u001b[0m\u001b[0;34m\u001b[0m\u001b[0;34m\u001b[0m\u001b[0m\n\u001b[1;32m   1491\u001b[0m         \u001b[0;32mwith\u001b[0m \u001b[0mself\u001b[0m\u001b[0;34m.\u001b[0m\u001b[0m_tmp_session\u001b[0m\u001b[0;34m(\u001b[0m\u001b[0msession\u001b[0m\u001b[0;34m)\u001b[0m \u001b[0;32mas\u001b[0m \u001b[0ms\u001b[0m\u001b[0;34m:\u001b[0m\u001b[0;34m\u001b[0m\u001b[0;34m\u001b[0m\u001b[0m\n\u001b[0;32m-> 1492\u001b[0;31m             \u001b[0;32mreturn\u001b[0m \u001b[0mself\u001b[0m\u001b[0;34m.\u001b[0m\u001b[0m_retry_with_session\u001b[0m\u001b[0;34m(\u001b[0m\u001b[0mretryable\u001b[0m\u001b[0;34m,\u001b[0m \u001b[0mfunc\u001b[0m\u001b[0;34m,\u001b[0m \u001b[0ms\u001b[0m\u001b[0;34m,\u001b[0m \u001b[0;32mNone\u001b[0m\u001b[0;34m)\u001b[0m\u001b[0;34m\u001b[0m\u001b[0;34m\u001b[0m\u001b[0m\n\u001b[0m\u001b[1;32m   1493\u001b[0m \u001b[0;34m\u001b[0m\u001b[0m\n\u001b[1;32m   1494\u001b[0m     \u001b[0;32mdef\u001b[0m \u001b[0m_reset_server\u001b[0m\u001b[0;34m(\u001b[0m\u001b[0mself\u001b[0m\u001b[0;34m,\u001b[0m \u001b[0maddress\u001b[0m\u001b[0;34m)\u001b[0m\u001b[0;34m:\u001b[0m\u001b[0;34m\u001b[0m\u001b[0;34m\u001b[0m\u001b[0m\n",
      "\u001b[0;32m~/anaconda3/envs/environment/lib/python3.7/site-packages/pymongo/mongo_client.py\u001b[0m in \u001b[0;36m_retry_with_session\u001b[0;34m(self, retryable, func, session, bulk)\u001b[0m\n\u001b[1;32m   1383\u001b[0m                             \u001b[0;32mraise\u001b[0m \u001b[0mlast_error\u001b[0m\u001b[0;34m\u001b[0m\u001b[0;34m\u001b[0m\u001b[0m\n\u001b[1;32m   1384\u001b[0m                         \u001b[0mretryable\u001b[0m \u001b[0;34m=\u001b[0m \u001b[0;32mFalse\u001b[0m\u001b[0;34m\u001b[0m\u001b[0;34m\u001b[0m\u001b[0m\n\u001b[0;32m-> 1385\u001b[0;31m                     \u001b[0;32mreturn\u001b[0m \u001b[0mfunc\u001b[0m\u001b[0;34m(\u001b[0m\u001b[0msession\u001b[0m\u001b[0;34m,\u001b[0m \u001b[0msock_info\u001b[0m\u001b[0;34m,\u001b[0m \u001b[0mretryable\u001b[0m\u001b[0;34m)\u001b[0m\u001b[0;34m\u001b[0m\u001b[0;34m\u001b[0m\u001b[0m\n\u001b[0m\u001b[1;32m   1386\u001b[0m             \u001b[0;32mexcept\u001b[0m \u001b[0mServerSelectionTimeoutError\u001b[0m\u001b[0;34m:\u001b[0m\u001b[0;34m\u001b[0m\u001b[0;34m\u001b[0m\u001b[0m\n\u001b[1;32m   1387\u001b[0m                 \u001b[0;32mif\u001b[0m \u001b[0mis_retrying\u001b[0m\u001b[0;34m(\u001b[0m\u001b[0;34m)\u001b[0m\u001b[0;34m:\u001b[0m\u001b[0;34m\u001b[0m\u001b[0;34m\u001b[0m\u001b[0m\n",
      "\u001b[0;32m~/anaconda3/envs/environment/lib/python3.7/site-packages/pymongo/collection.py\u001b[0m in \u001b[0;36m_insert_command\u001b[0;34m(session, sock_info, retryable_write)\u001b[0m\n\u001b[1;32m    595\u001b[0m                 retryable_write=retryable_write)\n\u001b[1;32m    596\u001b[0m \u001b[0;34m\u001b[0m\u001b[0m\n\u001b[0;32m--> 597\u001b[0;31m             \u001b[0m_check_write_command_response\u001b[0m\u001b[0;34m(\u001b[0m\u001b[0mresult\u001b[0m\u001b[0;34m)\u001b[0m\u001b[0;34m\u001b[0m\u001b[0;34m\u001b[0m\u001b[0m\n\u001b[0m\u001b[1;32m    598\u001b[0m \u001b[0;34m\u001b[0m\u001b[0m\n\u001b[1;32m    599\u001b[0m         self.__database.client._retryable_write(\n",
      "\u001b[0;32m~/anaconda3/envs/environment/lib/python3.7/site-packages/pymongo/helpers.py\u001b[0m in \u001b[0;36m_check_write_command_response\u001b[0;34m(result)\u001b[0m\n\u001b[1;32m    219\u001b[0m     \u001b[0mwrite_errors\u001b[0m \u001b[0;34m=\u001b[0m \u001b[0mresult\u001b[0m\u001b[0;34m.\u001b[0m\u001b[0mget\u001b[0m\u001b[0;34m(\u001b[0m\u001b[0;34m\"writeErrors\"\u001b[0m\u001b[0;34m)\u001b[0m\u001b[0;34m\u001b[0m\u001b[0;34m\u001b[0m\u001b[0m\n\u001b[1;32m    220\u001b[0m     \u001b[0;32mif\u001b[0m \u001b[0mwrite_errors\u001b[0m\u001b[0;34m:\u001b[0m\u001b[0;34m\u001b[0m\u001b[0;34m\u001b[0m\u001b[0m\n\u001b[0;32m--> 221\u001b[0;31m         \u001b[0m_raise_last_write_error\u001b[0m\u001b[0;34m(\u001b[0m\u001b[0mwrite_errors\u001b[0m\u001b[0;34m)\u001b[0m\u001b[0;34m\u001b[0m\u001b[0;34m\u001b[0m\u001b[0m\n\u001b[0m\u001b[1;32m    222\u001b[0m \u001b[0;34m\u001b[0m\u001b[0m\n\u001b[1;32m    223\u001b[0m     \u001b[0merror\u001b[0m \u001b[0;34m=\u001b[0m \u001b[0mresult\u001b[0m\u001b[0;34m.\u001b[0m\u001b[0mget\u001b[0m\u001b[0;34m(\u001b[0m\u001b[0;34m\"writeConcernError\"\u001b[0m\u001b[0;34m)\u001b[0m\u001b[0;34m\u001b[0m\u001b[0;34m\u001b[0m\u001b[0m\n",
      "\u001b[0;32m~/anaconda3/envs/environment/lib/python3.7/site-packages/pymongo/helpers.py\u001b[0m in \u001b[0;36m_raise_last_write_error\u001b[0;34m(write_errors)\u001b[0m\n\u001b[1;32m    200\u001b[0m     \u001b[0merror\u001b[0m \u001b[0;34m=\u001b[0m \u001b[0mwrite_errors\u001b[0m\u001b[0;34m[\u001b[0m\u001b[0;34m-\u001b[0m\u001b[0;36m1\u001b[0m\u001b[0;34m]\u001b[0m\u001b[0;34m\u001b[0m\u001b[0;34m\u001b[0m\u001b[0m\n\u001b[1;32m    201\u001b[0m     \u001b[0;32mif\u001b[0m \u001b[0merror\u001b[0m\u001b[0;34m.\u001b[0m\u001b[0mget\u001b[0m\u001b[0;34m(\u001b[0m\u001b[0;34m\"code\"\u001b[0m\u001b[0;34m)\u001b[0m \u001b[0;34m==\u001b[0m \u001b[0;36m11000\u001b[0m\u001b[0;34m:\u001b[0m\u001b[0;34m\u001b[0m\u001b[0;34m\u001b[0m\u001b[0m\n\u001b[0;32m--> 202\u001b[0;31m         \u001b[0;32mraise\u001b[0m \u001b[0mDuplicateKeyError\u001b[0m\u001b[0;34m(\u001b[0m\u001b[0merror\u001b[0m\u001b[0;34m.\u001b[0m\u001b[0mget\u001b[0m\u001b[0;34m(\u001b[0m\u001b[0;34m\"errmsg\"\u001b[0m\u001b[0;34m)\u001b[0m\u001b[0;34m,\u001b[0m \u001b[0;36m11000\u001b[0m\u001b[0;34m,\u001b[0m \u001b[0merror\u001b[0m\u001b[0;34m)\u001b[0m\u001b[0;34m\u001b[0m\u001b[0;34m\u001b[0m\u001b[0m\n\u001b[0m\u001b[1;32m    203\u001b[0m     \u001b[0;32mraise\u001b[0m \u001b[0mWriteError\u001b[0m\u001b[0;34m(\u001b[0m\u001b[0merror\u001b[0m\u001b[0;34m.\u001b[0m\u001b[0mget\u001b[0m\u001b[0;34m(\u001b[0m\u001b[0;34m\"errmsg\"\u001b[0m\u001b[0;34m)\u001b[0m\u001b[0;34m,\u001b[0m \u001b[0merror\u001b[0m\u001b[0;34m.\u001b[0m\u001b[0mget\u001b[0m\u001b[0;34m(\u001b[0m\u001b[0;34m\"code\"\u001b[0m\u001b[0;34m)\u001b[0m\u001b[0;34m,\u001b[0m \u001b[0merror\u001b[0m\u001b[0;34m)\u001b[0m\u001b[0;34m\u001b[0m\u001b[0;34m\u001b[0m\u001b[0m\n\u001b[1;32m    204\u001b[0m \u001b[0;34m\u001b[0m\u001b[0m\n",
      "\u001b[0;31mDuplicateKeyError\u001b[0m: E11000 duplicate key error collection: football.fixtures index: _id_ dup key: { : ObjectId('5de6cd1367605fece82bbb21') }"
     ]
    }
   ],
   "source": [
    "db.fixtures.insert_one(test_fixture)"
   ]
  },
  {
   "cell_type": "code",
   "execution_count": 74,
   "metadata": {},
   "outputs": [
    {
     "name": "stdout",
     "output_type": "stream",
     "text": [
      "Total fixtures in db: 380\n"
     ]
    }
   ],
   "source": [
    "print(\"Total fixtures in db: %d\" % len(list(db.fixtures.find({}))))"
   ]
  },
  {
   "cell_type": "markdown",
   "metadata": {},
   "source": [
    "We can see that we haven't inserted that duplicate fixture as the index failed the insert due to a `DuplicateKeyError`. "
   ]
  },
  {
   "cell_type": "markdown",
   "metadata": {},
   "source": [
    "# Identifying records to update \n",
    "We are going to want to update the fixtures that we have with the post-match [statistics](https://www.api-football.com/documentation#fixtures-statistics) when they become available.  \n",
    "\n",
    "At the moment the `fixtures` actually represent final results, and upcoming fixtures. We can identify which fixtures we don't have statistics for by using the `'$exists'` syntax. "
   ]
  },
  {
   "cell_type": "code",
   "execution_count": 80,
   "metadata": {},
   "outputs": [
    {
     "name": "stdout",
     "output_type": "stream",
     "text": [
      "{'_id': ObjectId('5de6cd1367605fece82bbb21'),\n",
      " 'awayTeam': {'logo': 'https://media.api-football.com/teams/71.png',\n",
      "              'team_id': 71,\n",
      "              'team_name': 'Norwich'},\n",
      " 'elapsed': 90,\n",
      " 'event_date': '2019-08-09T19:00:00+00:00',\n",
      " 'event_timestamp': 1565377200,\n",
      " 'firstHalfStart': 1565377200,\n",
      " 'fixture_id': 157015,\n",
      " 'goalsAwayTeam': 1,\n",
      " 'goalsHomeTeam': 4,\n",
      " 'homeTeam': {'logo': 'https://media.api-football.com/teams/40.png',\n",
      "              'team_id': 40,\n",
      "              'team_name': 'Liverpool'},\n",
      " 'league': {'country': 'England',\n",
      "            'flag': 'https://media.api-football.com/flags/gb.svg',\n",
      "            'logo': 'https://media.api-football.com/leagues/2.png',\n",
      "            'name': 'Premier League'},\n",
      " 'league_id': 524,\n",
      " 'referee': 'Michael Oliver, England',\n",
      " 'round': 'Regular Season - 1',\n",
      " 'score': {'extratime': None,\n",
      "           'fulltime': '4-1',\n",
      "           'halftime': '4-0',\n",
      "           'penalty': None},\n",
      " 'secondHalfStart': 1565380800,\n",
      " 'status': 'Match Finished',\n",
      " 'statusShort': 'FT',\n",
      " 'venue': 'Anfield (Liverpool)'}\n",
      "dict_keys(['_id', 'fixture_id', 'league_id', 'league', 'event_date', 'event_timestamp', 'firstHalfStart', 'secondHalfStart', 'round', 'status', 'statusShort', 'elapsed', 'venue', 'referee', 'homeTeam', 'awayTeam', 'goalsHomeTeam', 'goalsAwayTeam', 'score'])\n"
     ]
    }
   ],
   "source": [
    "fixture_without_stats = db.fixtures.find({'statistics': { '$exists' : False }})[0]\n",
    "pprint(fixture_without_stats)\n",
    "print(fixture_without_stats.keys())"
   ]
  },
  {
   "cell_type": "code",
   "execution_count": 116,
   "metadata": {},
   "outputs": [],
   "source": [
    "fixtures_to_complete = db.fixtures.find({'statistics': { '$exists' : False }, \n",
    "                 'statusShort':'FT'})"
   ]
  },
  {
   "cell_type": "code",
   "execution_count": 117,
   "metadata": {},
   "outputs": [
    {
     "data": {
      "text/plain": [
       "(140, 19)"
      ]
     },
     "execution_count": 117,
     "metadata": {},
     "output_type": "execute_result"
    }
   ],
   "source": [
    "pd.DataFrame(fixtures_to_complete).shape"
   ]
  },
  {
   "cell_type": "markdown",
   "metadata": {},
   "source": [
    "This is the list of completed fixtures that we don't have the statistics for. We are best off writing a python script that will handle filling the detail statistics in for us, with a hard limit of how many requests we are willing to do for that run. "
   ]
  },
  {
   "cell_type": "markdown",
   "metadata": {},
   "source": [
    "# Adding league level collection\n",
    "There are a number of API calls that can be done at league level, so it makes sense that we should store these in a `db.leagues` collection. The fixtures can easily be obtained as the league information is stored within the fixture document. "
   ]
  },
  {
   "cell_type": "code",
   "execution_count": 133,
   "metadata": {},
   "outputs": [],
   "source": [
    "league = api_call(\"https://api-football-v1.p.rapidapi.com/v2/teams/league/%d\" % 524)"
   ]
  },
  {
   "cell_type": "code",
   "execution_count": 142,
   "metadata": {},
   "outputs": [
    {
     "data": {
      "text/html": [
       "<div>\n",
       "<style scoped>\n",
       "    .dataframe tbody tr th:only-of-type {\n",
       "        vertical-align: middle;\n",
       "    }\n",
       "\n",
       "    .dataframe tbody tr th {\n",
       "        vertical-align: top;\n",
       "    }\n",
       "\n",
       "    .dataframe thead th {\n",
       "        text-align: right;\n",
       "    }\n",
       "</style>\n",
       "<table border=\"1\" class=\"dataframe\">\n",
       "  <thead>\n",
       "    <tr style=\"text-align: right;\">\n",
       "      <th></th>\n",
       "      <th>team_name</th>\n",
       "      <th>venue_name</th>\n",
       "    </tr>\n",
       "  </thead>\n",
       "  <tbody>\n",
       "    <tr>\n",
       "      <th>0</th>\n",
       "      <td>Liverpool</td>\n",
       "      <td>Anfield</td>\n",
       "    </tr>\n",
       "    <tr>\n",
       "      <th>1</th>\n",
       "      <td>Norwich</td>\n",
       "      <td>Carrow Road</td>\n",
       "    </tr>\n",
       "    <tr>\n",
       "      <th>2</th>\n",
       "      <td>West Ham</td>\n",
       "      <td>London Stadium</td>\n",
       "    </tr>\n",
       "    <tr>\n",
       "      <th>3</th>\n",
       "      <td>Manchester City</td>\n",
       "      <td>Etihad Stadium</td>\n",
       "    </tr>\n",
       "    <tr>\n",
       "      <th>4</th>\n",
       "      <td>Bournemouth</td>\n",
       "      <td>Vitality Stadium</td>\n",
       "    </tr>\n",
       "    <tr>\n",
       "      <th>5</th>\n",
       "      <td>Sheffield Utd</td>\n",
       "      <td>Bramall Lane</td>\n",
       "    </tr>\n",
       "    <tr>\n",
       "      <th>6</th>\n",
       "      <td>Burnley</td>\n",
       "      <td>Turf Moor</td>\n",
       "    </tr>\n",
       "    <tr>\n",
       "      <th>7</th>\n",
       "      <td>Southampton</td>\n",
       "      <td>St. Mary's Stadium</td>\n",
       "    </tr>\n",
       "    <tr>\n",
       "      <th>8</th>\n",
       "      <td>Crystal Palace</td>\n",
       "      <td>Selhurst Park</td>\n",
       "    </tr>\n",
       "    <tr>\n",
       "      <th>9</th>\n",
       "      <td>Everton</td>\n",
       "      <td>Goodison Park</td>\n",
       "    </tr>\n",
       "    <tr>\n",
       "      <th>10</th>\n",
       "      <td>Leicester</td>\n",
       "      <td>King Power Stadium</td>\n",
       "    </tr>\n",
       "    <tr>\n",
       "      <th>11</th>\n",
       "      <td>Wolves</td>\n",
       "      <td>Molineux Stadium</td>\n",
       "    </tr>\n",
       "    <tr>\n",
       "      <th>12</th>\n",
       "      <td>Watford</td>\n",
       "      <td>Vicarage Road</td>\n",
       "    </tr>\n",
       "    <tr>\n",
       "      <th>13</th>\n",
       "      <td>Brighton</td>\n",
       "      <td>The American Express Community Stadium</td>\n",
       "    </tr>\n",
       "    <tr>\n",
       "      <th>14</th>\n",
       "      <td>Tottenham</td>\n",
       "      <td>Tottenham Hotspur Stadium</td>\n",
       "    </tr>\n",
       "    <tr>\n",
       "      <th>15</th>\n",
       "      <td>Aston Villa</td>\n",
       "      <td>Villa Park</td>\n",
       "    </tr>\n",
       "    <tr>\n",
       "      <th>16</th>\n",
       "      <td>Newcastle</td>\n",
       "      <td>St. James' Park</td>\n",
       "    </tr>\n",
       "    <tr>\n",
       "      <th>17</th>\n",
       "      <td>Arsenal</td>\n",
       "      <td>Emirates Stadium</td>\n",
       "    </tr>\n",
       "    <tr>\n",
       "      <th>18</th>\n",
       "      <td>Manchester United</td>\n",
       "      <td>Old Trafford</td>\n",
       "    </tr>\n",
       "    <tr>\n",
       "      <th>19</th>\n",
       "      <td>Chelsea</td>\n",
       "      <td>Stamford Bridge</td>\n",
       "    </tr>\n",
       "  </tbody>\n",
       "</table>\n",
       "</div>"
      ],
      "text/plain": [
       "            team_name                              venue_name\n",
       "0           Liverpool                                 Anfield\n",
       "1             Norwich                             Carrow Road\n",
       "2            West Ham                          London Stadium\n",
       "3     Manchester City                          Etihad Stadium\n",
       "4         Bournemouth                        Vitality Stadium\n",
       "5       Sheffield Utd                            Bramall Lane\n",
       "6             Burnley                               Turf Moor\n",
       "7         Southampton                      St. Mary's Stadium\n",
       "8      Crystal Palace                           Selhurst Park\n",
       "9             Everton                           Goodison Park\n",
       "10          Leicester                      King Power Stadium\n",
       "11             Wolves                        Molineux Stadium\n",
       "12            Watford                           Vicarage Road\n",
       "13           Brighton  The American Express Community Stadium\n",
       "14          Tottenham               Tottenham Hotspur Stadium\n",
       "15        Aston Villa                              Villa Park\n",
       "16          Newcastle                         St. James' Park\n",
       "17            Arsenal                        Emirates Stadium\n",
       "18  Manchester United                            Old Trafford\n",
       "19            Chelsea                         Stamford Bridge"
      ]
     },
     "execution_count": 142,
     "metadata": {},
     "output_type": "execute_result"
    }
   ],
   "source": [
    "pd.DataFrame([{'team_name': x['name'], 'venue_name': x['venue_name']} for x in league['api']['teams']])"
   ]
  },
  {
   "cell_type": "code",
   "execution_count": 144,
   "metadata": {},
   "outputs": [],
   "source": [
    "standings = api_call(\"https://api-football-v1.p.rapidapi.com/v2/leagueTable/%d\" % 524)"
   ]
  },
  {
   "cell_type": "code",
   "execution_count": 159,
   "metadata": {},
   "outputs": [
    {
     "name": "stdout",
     "output_type": "stream",
     "text": [
      "[{'rank': 1, 'team_id': 40, 'teamName': 'Liverpool', 'logo': 'https://media.api-football.com/teams/40.png', 'group': 'Premier League', 'forme': 'WWWWW', 'status': 'same', 'description': 'Promotion - Champions League (Group Stage)', 'all': {'matchsPlayed': 14, 'win': 13, 'draw': 1, 'lose': 0, 'goalsFor': 32, 'goalsAgainst': 12}, 'home': {'matchsPlayed': 7, 'win': 7, 'draw': 0, 'lose': 0, 'goalsFor': 19, 'goalsAgainst': 7}, 'away': {'matchsPlayed': 7, 'win': 6, 'draw': 1, 'lose': 0, 'goalsFor': 13, 'goalsAgainst': 5}, 'goalsDiff': 20, 'points': 40, 'lastUpdate': '2019-12-03'}, {'rank': 2, 'team_id': 46, 'teamName': 'Leicester', 'logo': 'https://media.api-football.com/teams/46.png', 'group': 'Premier League', 'forme': 'WWWWW', 'status': 'same', 'description': 'Promotion - Champions League (Group Stage)', 'all': {'matchsPlayed': 14, 'win': 10, 'draw': 2, 'lose': 2, 'goalsFor': 33, 'goalsAgainst': 9}, 'home': {'matchsPlayed': 7, 'win': 6, 'draw': 1, 'lose': 0, 'goalsFor': 16, 'goalsAgainst': 4}, 'away': {'matchsPlayed': 7, 'win': 4, 'draw': 1, 'lose': 2, 'goalsFor': 17, 'goalsAgainst': 5}, 'goalsDiff': 24, 'points': 32, 'lastUpdate': '2019-12-03'}, {'rank': 3, 'team_id': 50, 'teamName': 'Manchester City', 'logo': 'https://media.api-football.com/teams/50.png', 'group': 'Premier League', 'forme': 'DWLWW', 'status': 'same', 'description': 'Promotion - Champions League (Group Stage)', 'all': {'matchsPlayed': 14, 'win': 9, 'draw': 2, 'lose': 3, 'goalsFor': 39, 'goalsAgainst': 16}, 'home': {'matchsPlayed': 7, 'win': 5, 'draw': 1, 'lose': 1, 'goalsFor': 21, 'goalsAgainst': 6}, 'away': {'matchsPlayed': 7, 'win': 4, 'draw': 1, 'lose': 2, 'goalsFor': 18, 'goalsAgainst': 10}, 'goalsDiff': 23, 'points': 29, 'lastUpdate': '2019-12-03'}, {'rank': 4, 'team_id': 49, 'teamName': 'Chelsea', 'logo': 'https://media.api-football.com/teams/49.png', 'group': 'Premier League', 'forme': 'LLWWW', 'status': 'same', 'description': 'Promotion - Champions League (Group Stage)', 'all': {'matchsPlayed': 14, 'win': 8, 'draw': 2, 'lose': 4, 'goalsFor': 28, 'goalsAgainst': 20}, 'home': {'matchsPlayed': 7, 'win': 3, 'draw': 2, 'lose': 2, 'goalsFor': 9, 'goalsAgainst': 6}, 'away': {'matchsPlayed': 7, 'win': 5, 'draw': 0, 'lose': 2, 'goalsFor': 19, 'goalsAgainst': 14}, 'goalsDiff': 8, 'points': 26, 'lastUpdate': '2019-12-03'}, {'rank': 5, 'team_id': 52, 'teamName': 'Crystal Palace', 'logo': 'https://media.api-football.com/teams/52.png', 'group': 'Premier League', 'forme': 'WWLLL', 'status': 'same', 'description': 'Promotion - Europa League (Group Stage)', 'all': {'matchsPlayed': 15, 'win': 6, 'draw': 3, 'lose': 6, 'goalsFor': 14, 'goalsAgainst': 18}, 'home': {'matchsPlayed': 8, 'win': 3, 'draw': 2, 'lose': 3, 'goalsFor': 6, 'goalsAgainst': 7}, 'away': {'matchsPlayed': 7, 'win': 3, 'draw': 1, 'lose': 3, 'goalsFor': 8, 'goalsAgainst': 11}, 'goalsDiff': -4, 'points': 21, 'lastUpdate': '2019-12-03'}, {'rank': 6, 'team_id': 47, 'teamName': 'Tottenham', 'logo': 'https://media.api-football.com/teams/47.png', 'group': 'Premier League', 'forme': 'WWDDL', 'status': 'same', 'description': None, 'all': {'matchsPlayed': 14, 'win': 5, 'draw': 5, 'lose': 4, 'goalsFor': 24, 'goalsAgainst': 21}, 'home': {'matchsPlayed': 7, 'win': 4, 'draw': 2, 'lose': 1, 'goalsFor': 14, 'goalsAgainst': 7}, 'away': {'matchsPlayed': 7, 'win': 1, 'draw': 3, 'lose': 3, 'goalsFor': 10, 'goalsAgainst': 14}, 'goalsDiff': 3, 'points': 20, 'lastUpdate': '2019-12-03'}, {'rank': 7, 'team_id': 39, 'teamName': 'Wolves', 'logo': 'https://media.api-football.com/teams/39.png', 'group': 'Premier League', 'forme': 'DWWDD', 'status': 'same', 'description': None, 'all': {'matchsPlayed': 14, 'win': 4, 'draw': 8, 'lose': 2, 'goalsFor': 19, 'goalsAgainst': 17}, 'home': {'matchsPlayed': 7, 'win': 2, 'draw': 4, 'lose': 1, 'goalsFor': 10, 'goalsAgainst': 10}, 'away': {'matchsPlayed': 7, 'win': 2, 'draw': 4, 'lose': 1, 'goalsFor': 9, 'goalsAgainst': 7}, 'goalsDiff': 2, 'points': 20, 'lastUpdate': '2019-12-03'}, {'rank': 8, 'team_id': 62, 'teamName': 'Sheffield Utd', 'logo': 'https://media.api-football.com/teams/62.png', 'group': 'Premier League', 'forme': 'DDDWD', 'status': 'same', 'description': None, 'all': {'matchsPlayed': 14, 'win': 4, 'draw': 7, 'lose': 3, 'goalsFor': 17, 'goalsAgainst': 13}, 'home': {'matchsPlayed': 7, 'win': 3, 'draw': 1, 'lose': 3, 'goalsFor': 9, 'goalsAgainst': 7}, 'away': {'matchsPlayed': 7, 'win': 1, 'draw': 6, 'lose': 0, 'goalsFor': 8, 'goalsAgainst': 6}, 'goalsDiff': 4, 'points': 19, 'lastUpdate': '2019-12-03'}, {'rank': 9, 'team_id': 42, 'teamName': 'Arsenal', 'logo': 'https://media.api-football.com/teams/42.png', 'group': 'Premier League', 'forme': 'DDLDD', 'status': 'same', 'description': None, 'all': {'matchsPlayed': 14, 'win': 4, 'draw': 7, 'lose': 3, 'goalsFor': 20, 'goalsAgainst': 21}, 'home': {'matchsPlayed': 7, 'win': 3, 'draw': 4, 'lose': 0, 'goalsFor': 13, 'goalsAgainst': 10}, 'away': {'matchsPlayed': 7, 'win': 1, 'draw': 3, 'lose': 3, 'goalsFor': 7, 'goalsAgainst': 11}, 'goalsDiff': -1, 'points': 19, 'lastUpdate': '2019-12-03'}, {'rank': 10, 'team_id': 33, 'teamName': 'Manchester United', 'logo': 'https://media.api-football.com/teams/33.png', 'group': 'Premier League', 'forme': 'DDWLW', 'status': 'same', 'description': None, 'all': {'matchsPlayed': 14, 'win': 4, 'draw': 6, 'lose': 4, 'goalsFor': 21, 'goalsAgainst': 17}, 'home': {'matchsPlayed': 7, 'win': 3, 'draw': 3, 'lose': 1, 'goalsFor': 13, 'goalsAgainst': 7}, 'away': {'matchsPlayed': 7, 'win': 1, 'draw': 3, 'lose': 3, 'goalsFor': 8, 'goalsAgainst': 10}, 'goalsDiff': 4, 'points': 18, 'lastUpdate': '2019-12-03'}, {'rank': 11, 'team_id': 44, 'teamName': 'Burnley', 'logo': 'https://media.api-football.com/teams/44.png', 'group': 'Premier League', 'forme': 'LWWLL', 'status': 'same', 'description': None, 'all': {'matchsPlayed': 14, 'win': 5, 'draw': 3, 'lose': 6, 'goalsFor': 20, 'goalsAgainst': 20}, 'home': {'matchsPlayed': 7, 'win': 4, 'draw': 0, 'lose': 3, 'goalsFor': 11, 'goalsAgainst': 9}, 'away': {'matchsPlayed': 7, 'win': 1, 'draw': 3, 'lose': 3, 'goalsFor': 9, 'goalsAgainst': 11}, 'goalsDiff': 0, 'points': 18, 'lastUpdate': '2019-12-03'}, {'rank': 12, 'team_id': 35, 'teamName': 'Bournemouth', 'logo': 'https://media.api-football.com/teams/35.png', 'group': 'Premier League', 'forme': 'LLLLW', 'status': 'same', 'description': None, 'all': {'matchsPlayed': 15, 'win': 4, 'draw': 4, 'lose': 7, 'goalsFor': 18, 'goalsAgainst': 21}, 'home': {'matchsPlayed': 7, 'win': 2, 'draw': 3, 'lose': 2, 'goalsFor': 9, 'goalsAgainst': 9}, 'away': {'matchsPlayed': 8, 'win': 2, 'draw': 1, 'lose': 5, 'goalsFor': 9, 'goalsAgainst': 12}, 'goalsDiff': -3, 'points': 16, 'lastUpdate': '2019-12-03'}, {'rank': 13, 'team_id': 48, 'teamName': 'West Ham', 'logo': 'https://media.api-football.com/teams/48.png', 'group': 'Premier League', 'forme': 'WLLLD', 'status': 'same', 'description': None, 'all': {'matchsPlayed': 14, 'win': 4, 'draw': 4, 'lose': 6, 'goalsFor': 17, 'goalsAgainst': 23}, 'home': {'matchsPlayed': 7, 'win': 2, 'draw': 1, 'lose': 4, 'goalsFor': 10, 'goalsAgainst': 14}, 'away': {'matchsPlayed': 7, 'win': 2, 'draw': 3, 'lose': 2, 'goalsFor': 7, 'goalsAgainst': 9}, 'goalsDiff': -6, 'points': 16, 'lastUpdate': '2019-12-03'}, {'rank': 14, 'team_id': 34, 'teamName': 'Newcastle', 'logo': 'https://media.api-football.com/teams/34.png', 'group': 'Premier League', 'forme': 'DLWWD', 'status': 'same', 'description': None, 'all': {'matchsPlayed': 14, 'win': 4, 'draw': 4, 'lose': 6, 'goalsFor': 13, 'goalsAgainst': 22}, 'home': {'matchsPlayed': 7, 'win': 2, 'draw': 4, 'lose': 1, 'goalsFor': 7, 'goalsAgainst': 6}, 'away': {'matchsPlayed': 7, 'win': 2, 'draw': 0, 'lose': 5, 'goalsFor': 6, 'goalsAgainst': 16}, 'goalsDiff': -9, 'points': 16, 'lastUpdate': '2019-12-03'}, {'rank': 15, 'team_id': 66, 'teamName': 'Aston Villa', 'logo': 'https://media.api-football.com/teams/66.png', 'group': 'Premier League', 'forme': 'DWLLL', 'status': 'same', 'description': None, 'all': {'matchsPlayed': 14, 'win': 4, 'draw': 3, 'lose': 7, 'goalsFor': 21, 'goalsAgainst': 22}, 'home': {'matchsPlayed': 7, 'win': 3, 'draw': 2, 'lose': 2, 'goalsFor': 10, 'goalsAgainst': 7}, 'away': {'matchsPlayed': 7, 'win': 1, 'draw': 1, 'lose': 5, 'goalsFor': 11, 'goalsAgainst': 15}, 'goalsDiff': -1, 'points': 15, 'lastUpdate': '2019-12-03'}, {'rank': 16, 'team_id': 51, 'teamName': 'Brighton', 'logo': 'https://media.api-football.com/teams/51.png', 'group': 'Premier League', 'forme': 'LLLWW', 'status': 'same', 'description': None, 'all': {'matchsPlayed': 14, 'win': 4, 'draw': 3, 'lose': 7, 'goalsFor': 16, 'goalsAgainst': 21}, 'home': {'matchsPlayed': 7, 'win': 3, 'draw': 2, 'lose': 2, 'goalsFor': 10, 'goalsAgainst': 8}, 'away': {'matchsPlayed': 7, 'win': 1, 'draw': 1, 'lose': 5, 'goalsFor': 6, 'goalsAgainst': 13}, 'goalsDiff': -5, 'points': 15, 'lastUpdate': '2019-12-03'}, {'rank': 17, 'team_id': 45, 'teamName': 'Everton', 'logo': 'https://media.api-football.com/teams/45.png', 'group': 'Premier League', 'forme': 'LLWDL', 'status': 'same', 'description': None, 'all': {'matchsPlayed': 14, 'win': 4, 'draw': 2, 'lose': 8, 'goalsFor': 14, 'goalsAgainst': 22}, 'home': {'matchsPlayed': 7, 'win': 3, 'draw': 1, 'lose': 3, 'goalsFor': 8, 'goalsAgainst': 10}, 'away': {'matchsPlayed': 7, 'win': 1, 'draw': 1, 'lose': 5, 'goalsFor': 6, 'goalsAgainst': 12}, 'goalsDiff': -8, 'points': 14, 'lastUpdate': '2019-12-03'}, {'rank': 18, 'team_id': 41, 'teamName': 'Southampton', 'logo': 'https://media.api-football.com/teams/41.png', 'group': 'Premier League', 'forme': 'WDLLL', 'status': 'same', 'description': 'Relegation - Championship', 'all': {'matchsPlayed': 14, 'win': 3, 'draw': 3, 'lose': 8, 'goalsFor': 15, 'goalsAgainst': 32}, 'home': {'matchsPlayed': 7, 'win': 1, 'draw': 1, 'lose': 5, 'goalsFor': 7, 'goalsAgainst': 22}, 'away': {'matchsPlayed': 7, 'win': 2, 'draw': 2, 'lose': 3, 'goalsFor': 8, 'goalsAgainst': 10}, 'goalsDiff': -17, 'points': 12, 'lastUpdate': '2019-12-03'}, {'rank': 19, 'team_id': 71, 'teamName': 'Norwich', 'logo': 'https://media.api-football.com/teams/71.png', 'group': 'Premier League', 'forme': 'DWLLL', 'status': 'same', 'description': 'Relegation - Championship', 'all': {'matchsPlayed': 14, 'win': 3, 'draw': 2, 'lose': 9, 'goalsFor': 15, 'goalsAgainst': 30}, 'home': {'matchsPlayed': 7, 'win': 2, 'draw': 1, 'lose': 4, 'goalsFor': 12, 'goalsAgainst': 18}, 'away': {'matchsPlayed': 7, 'win': 1, 'draw': 1, 'lose': 5, 'goalsFor': 3, 'goalsAgainst': 12}, 'goalsDiff': -15, 'points': 11, 'lastUpdate': '2019-12-03'}, {'rank': 20, 'team_id': 38, 'teamName': 'Watford', 'logo': 'https://media.api-football.com/teams/38.png', 'group': 'Premier League', 'forme': 'LLWLD', 'status': 'same', 'description': 'Relegation - Championship', 'all': {'matchsPlayed': 14, 'win': 1, 'draw': 5, 'lose': 8, 'goalsFor': 9, 'goalsAgainst': 28}, 'home': {'matchsPlayed': 7, 'win': 0, 'draw': 3, 'lose': 4, 'goalsFor': 4, 'goalsAgainst': 13}, 'away': {'matchsPlayed': 7, 'win': 1, 'draw': 2, 'lose': 4, 'goalsFor': 5, 'goalsAgainst': 15}, 'goalsDiff': -19, 'points': 8, 'lastUpdate': '2019-12-03'}]\n"
     ]
    }
   ],
   "source": [
    "print(standings['api']['standings'][0])"
   ]
  },
  {
   "cell_type": "code",
   "execution_count": 160,
   "metadata": {},
   "outputs": [],
   "source": [
    "top_scorers = api_call(\"https://api-football-v1.p.rapidapi.com/v2/topscorers/%d\" % 524)"
   ]
  },
  {
   "cell_type": "code",
   "execution_count": 169,
   "metadata": {},
   "outputs": [
    {
     "data": {
      "text/html": [
       "<div>\n",
       "<style scoped>\n",
       "    .dataframe tbody tr th:only-of-type {\n",
       "        vertical-align: middle;\n",
       "    }\n",
       "\n",
       "    .dataframe tbody tr th {\n",
       "        vertical-align: top;\n",
       "    }\n",
       "\n",
       "    .dataframe thead th {\n",
       "        text-align: right;\n",
       "    }\n",
       "</style>\n",
       "<table border=\"1\" class=\"dataframe\">\n",
       "  <thead>\n",
       "    <tr style=\"text-align: right;\">\n",
       "      <th></th>\n",
       "      <th>player_id</th>\n",
       "      <th>player_name</th>\n",
       "      <th>firstname</th>\n",
       "      <th>lastname</th>\n",
       "      <th>position</th>\n",
       "      <th>nationality</th>\n",
       "      <th>team_id</th>\n",
       "      <th>team_name</th>\n",
       "      <th>goals</th>\n",
       "      <th>shots</th>\n",
       "      <th>penalty</th>\n",
       "      <th>cards</th>\n",
       "      <th>appearences</th>\n",
       "      <th>minutes_played</th>\n",
       "    </tr>\n",
       "  </thead>\n",
       "  <tbody>\n",
       "    <tr>\n",
       "      <th>0</th>\n",
       "      <td>18788</td>\n",
       "      <td>J. Vardy</td>\n",
       "      <td>Jamie</td>\n",
       "      <td>Vardy</td>\n",
       "      <td>Attacker</td>\n",
       "      <td>England</td>\n",
       "      <td>46</td>\n",
       "      <td>Leicester</td>\n",
       "      <td>{'total': 12, 'assists': 3, 'conceded': None}</td>\n",
       "      <td>{'total': 31, 'on': 20}</td>\n",
       "      <td>{'won': 1, 'commited': None, 'success': 2, 'mi...</td>\n",
       "      <td>{'yellow': 1, 'second_yellow': 0, 'red': 0}</td>\n",
       "      <td>13</td>\n",
       "      <td>1170</td>\n",
       "    </tr>\n",
       "    <tr>\n",
       "      <th>1</th>\n",
       "      <td>19194</td>\n",
       "      <td>T. Abraham</td>\n",
       "      <td>Kevin Oghenetega Tamaraebi</td>\n",
       "      <td>Bakumo-Abraham</td>\n",
       "      <td>Attacker</td>\n",
       "      <td>England</td>\n",
       "      <td>49</td>\n",
       "      <td>Chelsea</td>\n",
       "      <td>{'total': 10, 'assists': 2, 'conceded': None}</td>\n",
       "      <td>{'total': 40, 'on': 20}</td>\n",
       "      <td>{'won': None, 'commited': None, 'success': 0, ...</td>\n",
       "      <td>{'yellow': 2, 'second_yellow': 0, 'red': 0}</td>\n",
       "      <td>13</td>\n",
       "      <td>970</td>\n",
       "    </tr>\n",
       "    <tr>\n",
       "      <th>2</th>\n",
       "      <td>642</td>\n",
       "      <td>S. Agüero</td>\n",
       "      <td>Sergio Leonel</td>\n",
       "      <td>Agüero del Castillo</td>\n",
       "      <td>Attacker</td>\n",
       "      <td>Argentina</td>\n",
       "      <td>50</td>\n",
       "      <td>Manchester City</td>\n",
       "      <td>{'total': 9, 'assists': 2, 'conceded': None}</td>\n",
       "      <td>{'total': 42, 'on': 12}</td>\n",
       "      <td>{'won': None, 'commited': None, 'success': 2, ...</td>\n",
       "      <td>{'yellow': 0, 'second_yellow': 0, 'red': 0}</td>\n",
       "      <td>12</td>\n",
       "      <td>813</td>\n",
       "    </tr>\n",
       "    <tr>\n",
       "      <th>3</th>\n",
       "      <td>304</td>\n",
       "      <td>S. Mané</td>\n",
       "      <td>Sadio</td>\n",
       "      <td>Mané</td>\n",
       "      <td>Attacker</td>\n",
       "      <td>Senegal</td>\n",
       "      <td>40</td>\n",
       "      <td>Liverpool</td>\n",
       "      <td>{'total': 8, 'assists': 2, 'conceded': None}</td>\n",
       "      <td>{'total': 33, 'on': 17}</td>\n",
       "      <td>{'won': 2, 'commited': None, 'success': 0, 'mi...</td>\n",
       "      <td>{'yellow': 1, 'second_yellow': 0, 'red': 0}</td>\n",
       "      <td>14</td>\n",
       "      <td>1149</td>\n",
       "    </tr>\n",
       "    <tr>\n",
       "      <th>4</th>\n",
       "      <td>645</td>\n",
       "      <td>R. Sterling</td>\n",
       "      <td>Raheem Shaquille</td>\n",
       "      <td>Sterling</td>\n",
       "      <td>Attacker</td>\n",
       "      <td>England</td>\n",
       "      <td>50</td>\n",
       "      <td>Manchester City</td>\n",
       "      <td>{'total': 8, 'assists': 1, 'conceded': None}</td>\n",
       "      <td>{'total': 42, 'on': 15}</td>\n",
       "      <td>{'won': None, 'commited': None, 'success': 0, ...</td>\n",
       "      <td>{'yellow': 4, 'second_yellow': 0, 'red': 0}</td>\n",
       "      <td>13</td>\n",
       "      <td>1152</td>\n",
       "    </tr>\n",
       "    <tr>\n",
       "      <th>5</th>\n",
       "      <td>1465</td>\n",
       "      <td>P. Aubameyang</td>\n",
       "      <td>Pierre-Emerick</td>\n",
       "      <td>Aubameyang</td>\n",
       "      <td>Attacker</td>\n",
       "      <td>Gabon</td>\n",
       "      <td>42</td>\n",
       "      <td>Arsenal</td>\n",
       "      <td>{'total': 8, 'assists': None, 'conceded': None}</td>\n",
       "      <td>{'total': 34, 'on': 14}</td>\n",
       "      <td>{'won': None, 'commited': None, 'success': 0, ...</td>\n",
       "      <td>{'yellow': 2, 'second_yellow': 0, 'red': 0}</td>\n",
       "      <td>13</td>\n",
       "      <td>1170</td>\n",
       "    </tr>\n",
       "    <tr>\n",
       "      <th>6</th>\n",
       "      <td>18955</td>\n",
       "      <td>D. Ings</td>\n",
       "      <td>Daniel William John</td>\n",
       "      <td>Ings</td>\n",
       "      <td>Attacker</td>\n",
       "      <td>England</td>\n",
       "      <td>41</td>\n",
       "      <td>Southampton</td>\n",
       "      <td>{'total': 7, 'assists': 1, 'conceded': None}</td>\n",
       "      <td>{'total': 30, 'on': 13}</td>\n",
       "      <td>{'won': 1, 'commited': None, 'success': 0, 'mi...</td>\n",
       "      <td>{'yellow': 1, 'second_yellow': 0, 'red': 0}</td>\n",
       "      <td>14</td>\n",
       "      <td>919</td>\n",
       "    </tr>\n",
       "    <tr>\n",
       "      <th>7</th>\n",
       "      <td>184</td>\n",
       "      <td>H. Kane</td>\n",
       "      <td>Harry</td>\n",
       "      <td>Kane</td>\n",
       "      <td>Attacker</td>\n",
       "      <td>England</td>\n",
       "      <td>47</td>\n",
       "      <td>Tottenham</td>\n",
       "      <td>{'total': 7, 'assists': 1, 'conceded': None}</td>\n",
       "      <td>{'total': 36, 'on': 13}</td>\n",
       "      <td>{'won': None, 'commited': None, 'success': 1, ...</td>\n",
       "      <td>{'yellow': 1, 'second_yellow': 0, 'red': 0}</td>\n",
       "      <td>13</td>\n",
       "      <td>1165</td>\n",
       "    </tr>\n",
       "    <tr>\n",
       "      <th>8</th>\n",
       "      <td>909</td>\n",
       "      <td>M. Rashford</td>\n",
       "      <td>Marcus</td>\n",
       "      <td>Rashford</td>\n",
       "      <td>Attacker</td>\n",
       "      <td>England</td>\n",
       "      <td>33</td>\n",
       "      <td>Manchester United</td>\n",
       "      <td>{'total': 7, 'assists': 4, 'conceded': None}</td>\n",
       "      <td>{'total': 40, 'on': 16}</td>\n",
       "      <td>{'won': 2, 'commited': None, 'success': 2, 'mi...</td>\n",
       "      <td>{'yellow': 2, 'second_yellow': 0, 'red': 0}</td>\n",
       "      <td>13</td>\n",
       "      <td>1130</td>\n",
       "    </tr>\n",
       "    <tr>\n",
       "      <th>9</th>\n",
       "      <td>19085</td>\n",
       "      <td>T. Pukki</td>\n",
       "      <td>Teemu</td>\n",
       "      <td>Pukki</td>\n",
       "      <td>Attacker</td>\n",
       "      <td>Finland</td>\n",
       "      <td>71</td>\n",
       "      <td>Norwich</td>\n",
       "      <td>{'total': 6, 'assists': 3, 'conceded': None}</td>\n",
       "      <td>{'total': 35, 'on': 18}</td>\n",
       "      <td>{'won': None, 'commited': None, 'success': 0, ...</td>\n",
       "      <td>{'yellow': 2, 'second_yellow': 0, 'red': 0}</td>\n",
       "      <td>13</td>\n",
       "      <td>1157</td>\n",
       "    </tr>\n",
       "    <tr>\n",
       "      <th>10</th>\n",
       "      <td>19221</td>\n",
       "      <td>H. Wilson</td>\n",
       "      <td>Harry</td>\n",
       "      <td>Wilson</td>\n",
       "      <td>Midfielder</td>\n",
       "      <td>Wales</td>\n",
       "      <td>35</td>\n",
       "      <td>Bournemouth</td>\n",
       "      <td>{'total': 6, 'assists': None, 'conceded': None}</td>\n",
       "      <td>{'total': 27, 'on': 10}</td>\n",
       "      <td>{'won': None, 'commited': None, 'success': 0, ...</td>\n",
       "      <td>{'yellow': 1, 'second_yellow': 0, 'red': 0}</td>\n",
       "      <td>13</td>\n",
       "      <td>792</td>\n",
       "    </tr>\n",
       "    <tr>\n",
       "      <th>11</th>\n",
       "      <td>18931</td>\n",
       "      <td>C. Wood</td>\n",
       "      <td>Chris</td>\n",
       "      <td>Wood</td>\n",
       "      <td>Attacker</td>\n",
       "      <td>New Zealand</td>\n",
       "      <td>44</td>\n",
       "      <td>Burnley</td>\n",
       "      <td>{'total': 6, 'assists': None, 'conceded': None}</td>\n",
       "      <td>{'total': 27, 'on': 16}</td>\n",
       "      <td>{'won': None, 'commited': None, 'success': 0, ...</td>\n",
       "      <td>{'yellow': 1, 'second_yellow': 0, 'red': 0}</td>\n",
       "      <td>11</td>\n",
       "      <td>922</td>\n",
       "    </tr>\n",
       "    <tr>\n",
       "      <th>12</th>\n",
       "      <td>18927</td>\n",
       "      <td>A. Barnes</td>\n",
       "      <td>Ashley</td>\n",
       "      <td>Barnes</td>\n",
       "      <td>Attacker</td>\n",
       "      <td>Austria</td>\n",
       "      <td>44</td>\n",
       "      <td>Burnley</td>\n",
       "      <td>{'total': 6, 'assists': None, 'conceded': None}</td>\n",
       "      <td>{'total': 36, 'on': 12}</td>\n",
       "      <td>{'won': 1, 'commited': None, 'success': 1, 'mi...</td>\n",
       "      <td>{'yellow': 3, 'second_yellow': 0, 'red': 0}</td>\n",
       "      <td>13</td>\n",
       "      <td>1036</td>\n",
       "    </tr>\n",
       "    <tr>\n",
       "      <th>13</th>\n",
       "      <td>306</td>\n",
       "      <td>Mohamed Salah</td>\n",
       "      <td>Mohamed</td>\n",
       "      <td>Salah Ghaly</td>\n",
       "      <td>Attacker</td>\n",
       "      <td>Egypt</td>\n",
       "      <td>40</td>\n",
       "      <td>Liverpool</td>\n",
       "      <td>{'total': 6, 'assists': 3, 'conceded': None}</td>\n",
       "      <td>{'total': 42, 'on': 19}</td>\n",
       "      <td>{'won': 1, 'commited': None, 'success': 2, 'mi...</td>\n",
       "      <td>{'yellow': 0, 'second_yellow': 0, 'red': 0}</td>\n",
       "      <td>12</td>\n",
       "      <td>1015</td>\n",
       "    </tr>\n",
       "    <tr>\n",
       "      <th>14</th>\n",
       "      <td>2887</td>\n",
       "      <td>R. Jiménez</td>\n",
       "      <td>Raúl Alonso</td>\n",
       "      <td>Jiménez Rodríguez</td>\n",
       "      <td>Attacker</td>\n",
       "      <td>Mexico</td>\n",
       "      <td>39</td>\n",
       "      <td>Wolves</td>\n",
       "      <td>{'total': 6, 'assists': 2, 'conceded': None}</td>\n",
       "      <td>{'total': 40, 'on': 16}</td>\n",
       "      <td>{'won': 1, 'commited': None, 'success': 2, 'mi...</td>\n",
       "      <td>{'yellow': 2, 'second_yellow': 0, 'red': 0}</td>\n",
       "      <td>13</td>\n",
       "      <td>1126</td>\n",
       "    </tr>\n",
       "    <tr>\n",
       "      <th>15</th>\n",
       "      <td>636</td>\n",
       "      <td>Bernardo Silva</td>\n",
       "      <td>Bernardo</td>\n",
       "      <td>Mota Veiga de Carvalho e Silva</td>\n",
       "      <td>Midfielder</td>\n",
       "      <td>Portugal</td>\n",
       "      <td>50</td>\n",
       "      <td>Manchester City</td>\n",
       "      <td>{'total': 5, 'assists': 2, 'conceded': None}</td>\n",
       "      <td>{'total': 25, 'on': 10}</td>\n",
       "      <td>{'won': None, 'commited': None, 'success': 0, ...</td>\n",
       "      <td>{'yellow': 2, 'second_yellow': 0, 'red': 0}</td>\n",
       "      <td>12</td>\n",
       "      <td>749</td>\n",
       "    </tr>\n",
       "    <tr>\n",
       "      <th>16</th>\n",
       "      <td>17</td>\n",
       "      <td>C. Pulisic</td>\n",
       "      <td>Christian</td>\n",
       "      <td>Pulisic</td>\n",
       "      <td>Midfielder</td>\n",
       "      <td>USA</td>\n",
       "      <td>49</td>\n",
       "      <td>Chelsea</td>\n",
       "      <td>{'total': 5, 'assists': 2, 'conceded': None}</td>\n",
       "      <td>{'total': 24, 'on': 12}</td>\n",
       "      <td>{'won': None, 'commited': None, 'success': 0, ...</td>\n",
       "      <td>{'yellow': 0, 'second_yellow': 0, 'red': 0}</td>\n",
       "      <td>11</td>\n",
       "      <td>746</td>\n",
       "    </tr>\n",
       "    <tr>\n",
       "      <th>17</th>\n",
       "      <td>2939</td>\n",
       "      <td>C. Wilson</td>\n",
       "      <td>Callum</td>\n",
       "      <td>Wilson</td>\n",
       "      <td>Attacker</td>\n",
       "      <td>England</td>\n",
       "      <td>35</td>\n",
       "      <td>Bournemouth</td>\n",
       "      <td>{'total': 5, 'assists': None, 'conceded': None}</td>\n",
       "      <td>{'total': 23, 'on': 11}</td>\n",
       "      <td>{'won': 1, 'commited': None, 'success': 0, 'mi...</td>\n",
       "      <td>{'yellow': 3, 'second_yellow': 0, 'red': 0}</td>\n",
       "      <td>14</td>\n",
       "      <td>1223</td>\n",
       "    </tr>\n",
       "    <tr>\n",
       "      <th>18</th>\n",
       "      <td>629</td>\n",
       "      <td>K. De Bruyne</td>\n",
       "      <td>Kevin</td>\n",
       "      <td>De Bruyne</td>\n",
       "      <td>Midfielder</td>\n",
       "      <td>Belgium</td>\n",
       "      <td>50</td>\n",
       "      <td>Manchester City</td>\n",
       "      <td>{'total': 4, 'assists': 9, 'conceded': None}</td>\n",
       "      <td>{'total': 36, 'on': 8}</td>\n",
       "      <td>{'won': None, 'commited': None, 'success': 0, ...</td>\n",
       "      <td>{'yellow': 0, 'second_yellow': 0, 'red': 0}</td>\n",
       "      <td>13</td>\n",
       "      <td>1057</td>\n",
       "    </tr>\n",
       "    <tr>\n",
       "      <th>19</th>\n",
       "      <td>186</td>\n",
       "      <td>Son Heung-Min</td>\n",
       "      <td>Heung-Min</td>\n",
       "      <td>Son</td>\n",
       "      <td>Attacker</td>\n",
       "      <td>Korea Republic</td>\n",
       "      <td>47</td>\n",
       "      <td>Tottenham</td>\n",
       "      <td>{'total': 4, 'assists': 6, 'conceded': None}</td>\n",
       "      <td>{'total': 36, 'on': 14}</td>\n",
       "      <td>{'won': 1, 'commited': None, 'success': 0, 'mi...</td>\n",
       "      <td>{'yellow': 0, 'second_yellow': 0, 'red': 1}</td>\n",
       "      <td>12</td>\n",
       "      <td>967</td>\n",
       "    </tr>\n",
       "  </tbody>\n",
       "</table>\n",
       "</div>"
      ],
      "text/plain": [
       "    player_id     player_name                   firstname  \\\n",
       "0       18788        J. Vardy                       Jamie   \n",
       "1       19194      T. Abraham  Kevin Oghenetega Tamaraebi   \n",
       "2         642       S. Agüero               Sergio Leonel   \n",
       "3         304         S. Mané                       Sadio   \n",
       "4         645     R. Sterling            Raheem Shaquille   \n",
       "5        1465   P. Aubameyang              Pierre-Emerick   \n",
       "6       18955         D. Ings         Daniel William John   \n",
       "7         184         H. Kane                       Harry   \n",
       "8         909     M. Rashford                      Marcus   \n",
       "9       19085        T. Pukki                       Teemu   \n",
       "10      19221       H. Wilson                       Harry   \n",
       "11      18931         C. Wood                       Chris   \n",
       "12      18927       A. Barnes                      Ashley   \n",
       "13        306   Mohamed Salah                     Mohamed   \n",
       "14       2887      R. Jiménez                 Raúl Alonso   \n",
       "15        636  Bernardo Silva                    Bernardo   \n",
       "16         17      C. Pulisic                   Christian   \n",
       "17       2939       C. Wilson                      Callum   \n",
       "18        629    K. De Bruyne                       Kevin   \n",
       "19        186   Son Heung-Min                   Heung-Min   \n",
       "\n",
       "                          lastname    position     nationality  team_id  \\\n",
       "0                            Vardy    Attacker         England       46   \n",
       "1                   Bakumo-Abraham    Attacker         England       49   \n",
       "2              Agüero del Castillo    Attacker       Argentina       50   \n",
       "3                             Mané    Attacker         Senegal       40   \n",
       "4                         Sterling    Attacker         England       50   \n",
       "5                       Aubameyang    Attacker           Gabon       42   \n",
       "6                             Ings    Attacker         England       41   \n",
       "7                             Kane    Attacker         England       47   \n",
       "8                         Rashford    Attacker         England       33   \n",
       "9                            Pukki    Attacker         Finland       71   \n",
       "10                          Wilson  Midfielder           Wales       35   \n",
       "11                            Wood    Attacker     New Zealand       44   \n",
       "12                          Barnes    Attacker         Austria       44   \n",
       "13                     Salah Ghaly    Attacker           Egypt       40   \n",
       "14               Jiménez Rodríguez    Attacker          Mexico       39   \n",
       "15  Mota Veiga de Carvalho e Silva  Midfielder        Portugal       50   \n",
       "16                         Pulisic  Midfielder             USA       49   \n",
       "17                          Wilson    Attacker         England       35   \n",
       "18                       De Bruyne  Midfielder         Belgium       50   \n",
       "19                             Son    Attacker  Korea Republic       47   \n",
       "\n",
       "            team_name                                            goals  \\\n",
       "0           Leicester    {'total': 12, 'assists': 3, 'conceded': None}   \n",
       "1             Chelsea    {'total': 10, 'assists': 2, 'conceded': None}   \n",
       "2     Manchester City     {'total': 9, 'assists': 2, 'conceded': None}   \n",
       "3           Liverpool     {'total': 8, 'assists': 2, 'conceded': None}   \n",
       "4     Manchester City     {'total': 8, 'assists': 1, 'conceded': None}   \n",
       "5             Arsenal  {'total': 8, 'assists': None, 'conceded': None}   \n",
       "6         Southampton     {'total': 7, 'assists': 1, 'conceded': None}   \n",
       "7           Tottenham     {'total': 7, 'assists': 1, 'conceded': None}   \n",
       "8   Manchester United     {'total': 7, 'assists': 4, 'conceded': None}   \n",
       "9             Norwich     {'total': 6, 'assists': 3, 'conceded': None}   \n",
       "10        Bournemouth  {'total': 6, 'assists': None, 'conceded': None}   \n",
       "11            Burnley  {'total': 6, 'assists': None, 'conceded': None}   \n",
       "12            Burnley  {'total': 6, 'assists': None, 'conceded': None}   \n",
       "13          Liverpool     {'total': 6, 'assists': 3, 'conceded': None}   \n",
       "14             Wolves     {'total': 6, 'assists': 2, 'conceded': None}   \n",
       "15    Manchester City     {'total': 5, 'assists': 2, 'conceded': None}   \n",
       "16            Chelsea     {'total': 5, 'assists': 2, 'conceded': None}   \n",
       "17        Bournemouth  {'total': 5, 'assists': None, 'conceded': None}   \n",
       "18    Manchester City     {'total': 4, 'assists': 9, 'conceded': None}   \n",
       "19          Tottenham     {'total': 4, 'assists': 6, 'conceded': None}   \n",
       "\n",
       "                      shots  \\\n",
       "0   {'total': 31, 'on': 20}   \n",
       "1   {'total': 40, 'on': 20}   \n",
       "2   {'total': 42, 'on': 12}   \n",
       "3   {'total': 33, 'on': 17}   \n",
       "4   {'total': 42, 'on': 15}   \n",
       "5   {'total': 34, 'on': 14}   \n",
       "6   {'total': 30, 'on': 13}   \n",
       "7   {'total': 36, 'on': 13}   \n",
       "8   {'total': 40, 'on': 16}   \n",
       "9   {'total': 35, 'on': 18}   \n",
       "10  {'total': 27, 'on': 10}   \n",
       "11  {'total': 27, 'on': 16}   \n",
       "12  {'total': 36, 'on': 12}   \n",
       "13  {'total': 42, 'on': 19}   \n",
       "14  {'total': 40, 'on': 16}   \n",
       "15  {'total': 25, 'on': 10}   \n",
       "16  {'total': 24, 'on': 12}   \n",
       "17  {'total': 23, 'on': 11}   \n",
       "18   {'total': 36, 'on': 8}   \n",
       "19  {'total': 36, 'on': 14}   \n",
       "\n",
       "                                              penalty  \\\n",
       "0   {'won': 1, 'commited': None, 'success': 2, 'mi...   \n",
       "1   {'won': None, 'commited': None, 'success': 0, ...   \n",
       "2   {'won': None, 'commited': None, 'success': 2, ...   \n",
       "3   {'won': 2, 'commited': None, 'success': 0, 'mi...   \n",
       "4   {'won': None, 'commited': None, 'success': 0, ...   \n",
       "5   {'won': None, 'commited': None, 'success': 0, ...   \n",
       "6   {'won': 1, 'commited': None, 'success': 0, 'mi...   \n",
       "7   {'won': None, 'commited': None, 'success': 1, ...   \n",
       "8   {'won': 2, 'commited': None, 'success': 2, 'mi...   \n",
       "9   {'won': None, 'commited': None, 'success': 0, ...   \n",
       "10  {'won': None, 'commited': None, 'success': 0, ...   \n",
       "11  {'won': None, 'commited': None, 'success': 0, ...   \n",
       "12  {'won': 1, 'commited': None, 'success': 1, 'mi...   \n",
       "13  {'won': 1, 'commited': None, 'success': 2, 'mi...   \n",
       "14  {'won': 1, 'commited': None, 'success': 2, 'mi...   \n",
       "15  {'won': None, 'commited': None, 'success': 0, ...   \n",
       "16  {'won': None, 'commited': None, 'success': 0, ...   \n",
       "17  {'won': 1, 'commited': None, 'success': 0, 'mi...   \n",
       "18  {'won': None, 'commited': None, 'success': 0, ...   \n",
       "19  {'won': 1, 'commited': None, 'success': 0, 'mi...   \n",
       "\n",
       "                                          cards  appearences  minutes_played  \n",
       "0   {'yellow': 1, 'second_yellow': 0, 'red': 0}           13            1170  \n",
       "1   {'yellow': 2, 'second_yellow': 0, 'red': 0}           13             970  \n",
       "2   {'yellow': 0, 'second_yellow': 0, 'red': 0}           12             813  \n",
       "3   {'yellow': 1, 'second_yellow': 0, 'red': 0}           14            1149  \n",
       "4   {'yellow': 4, 'second_yellow': 0, 'red': 0}           13            1152  \n",
       "5   {'yellow': 2, 'second_yellow': 0, 'red': 0}           13            1170  \n",
       "6   {'yellow': 1, 'second_yellow': 0, 'red': 0}           14             919  \n",
       "7   {'yellow': 1, 'second_yellow': 0, 'red': 0}           13            1165  \n",
       "8   {'yellow': 2, 'second_yellow': 0, 'red': 0}           13            1130  \n",
       "9   {'yellow': 2, 'second_yellow': 0, 'red': 0}           13            1157  \n",
       "10  {'yellow': 1, 'second_yellow': 0, 'red': 0}           13             792  \n",
       "11  {'yellow': 1, 'second_yellow': 0, 'red': 0}           11             922  \n",
       "12  {'yellow': 3, 'second_yellow': 0, 'red': 0}           13            1036  \n",
       "13  {'yellow': 0, 'second_yellow': 0, 'red': 0}           12            1015  \n",
       "14  {'yellow': 2, 'second_yellow': 0, 'red': 0}           13            1126  \n",
       "15  {'yellow': 2, 'second_yellow': 0, 'red': 0}           12             749  \n",
       "16  {'yellow': 0, 'second_yellow': 0, 'red': 0}           11             746  \n",
       "17  {'yellow': 3, 'second_yellow': 0, 'red': 0}           14            1223  \n",
       "18  {'yellow': 0, 'second_yellow': 0, 'red': 0}           13            1057  \n",
       "19  {'yellow': 0, 'second_yellow': 0, 'red': 1}           12             967  "
      ]
     },
     "execution_count": 169,
     "metadata": {},
     "output_type": "execute_result"
    }
   ],
   "source": [
    "ts = pd.DataFrame(top_scorers['api']['topscorers'])\n",
    "pd.concat([ts, ts['games'].apply(pd.Series)], axis = 1).drop('games', axis = 1)"
   ]
  }
 ],
 "metadata": {
  "kernelspec": {
   "display_name": "Python 3",
   "language": "python",
   "name": "python3"
  },
  "language_info": {
   "codemirror_mode": {
    "name": "ipython",
    "version": 3
   },
   "file_extension": ".py",
   "mimetype": "text/x-python",
   "name": "python",
   "nbconvert_exporter": "python",
   "pygments_lexer": "ipython3",
   "version": "3.7.5"
  }
 },
 "nbformat": 4,
 "nbformat_minor": 4
}
